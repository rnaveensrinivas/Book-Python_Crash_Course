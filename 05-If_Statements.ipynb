{
 "cells": [
  {
   "cell_type": "markdown",
   "id": "6a4d84be",
   "metadata": {},
   "source": [
    "# A Simple Example"
   ]
  },
  {
   "cell_type": "code",
   "execution_count": 1,
   "id": "ca0a8fef",
   "metadata": {},
   "outputs": [
    {
     "name": "stdout",
     "output_type": "stream",
     "text": [
      "Audi\n",
      "BMW\n",
      "Subaru\n",
      "Toyota\n"
     ]
    }
   ],
   "source": [
    "# file:- cars.py\n",
    "cars = ['audi', 'bmw', 'subaru', 'toyota']\n",
    "\n",
    "for car in cars:\n",
    "    if car == \"bmw\":\n",
    "        print(car.upper())\n",
    "    else:\n",
    "        print(car.title())"
   ]
  },
  {
   "cell_type": "markdown",
   "id": "a9e19b66",
   "metadata": {},
   "source": [
    "# Conditional Tests"
   ]
  },
  {
   "cell_type": "code",
   "execution_count": 3,
   "id": "d21f32a6",
   "metadata": {},
   "outputs": [
    {
     "name": "stdout",
     "output_type": "stream",
     "text": [
      "\n"
     ]
    }
   ],
   "source": [
    "\"\"\"\n",
    "At the heart of every if statement is an expression that can be evaluated as \n",
    "True or False and is called a conditional test. \n",
    "\n",
    "Python uses the values True and False to decide whether the code in an \n",
    "if statement should be executed.\n",
    "\"\"\"\n",
    "print()"
   ]
  },
  {
   "cell_type": "markdown",
   "id": "147846bf",
   "metadata": {},
   "source": [
    "## Checking for Equality"
   ]
  },
  {
   "cell_type": "code",
   "execution_count": 5,
   "id": "2f368b2e",
   "metadata": {},
   "outputs": [
    {
     "data": {
      "text/plain": [
       "True"
      ]
     },
     "execution_count": 5,
     "metadata": {},
     "output_type": "execute_result"
    }
   ],
   "source": [
    "car = \"bmw\"\n",
    "car == \"bmw\""
   ]
  },
  {
   "cell_type": "code",
   "execution_count": 6,
   "id": "4ed1dd61",
   "metadata": {},
   "outputs": [
    {
     "data": {
      "text/plain": [
       "False"
      ]
     },
     "execution_count": 6,
     "metadata": {},
     "output_type": "execute_result"
    }
   ],
   "source": [
    "car = \"audi\"\n",
    "car == \"bmw\""
   ]
  },
  {
   "cell_type": "markdown",
   "id": "a56da885",
   "metadata": {},
   "source": [
    "## Ignoring case when checking for Equality"
   ]
  },
  {
   "cell_type": "code",
   "execution_count": 7,
   "id": "d871fb2d",
   "metadata": {},
   "outputs": [
    {
     "data": {
      "text/plain": [
       "False"
      ]
     },
     "execution_count": 7,
     "metadata": {},
     "output_type": "execute_result"
    }
   ],
   "source": [
    "car = \"Audi\"\n",
    "car == \"audi\""
   ]
  },
  {
   "cell_type": "code",
   "execution_count": 8,
   "id": "03ad611d",
   "metadata": {},
   "outputs": [
    {
     "data": {
      "text/plain": [
       "True"
      ]
     },
     "execution_count": 8,
     "metadata": {},
     "output_type": "execute_result"
    }
   ],
   "source": [
    "car = \"Audi\"\n",
    "car.lower() == \"audi\" # test is now case insensitive."
   ]
  },
  {
   "cell_type": "markdown",
   "id": "161dd594",
   "metadata": {},
   "source": [
    "## Checking for Inequality"
   ]
  },
  {
   "cell_type": "code",
   "execution_count": null,
   "id": "c03e569e",
   "metadata": {},
   "outputs": [],
   "source": [
    "\"\"\"\n",
    "Most of the conditional expressions you write will test for equality, but \n",
    "sometimes you’ll find it more efficient to test for inequality\n",
    "\"\"\""
   ]
  },
  {
   "cell_type": "code",
   "execution_count": 9,
   "id": "e5be3366",
   "metadata": {},
   "outputs": [
    {
     "name": "stdout",
     "output_type": "stream",
     "text": [
      "Hold the anchovies!\n"
     ]
    }
   ],
   "source": [
    "# file:- toppings.py\n",
    "\n",
    "requested_topping = \"mushrooms\"\n",
    "\n",
    "if requested_topping != \"anchovies\":\n",
    "    print(\"Hold the anchovies!\")"
   ]
  },
  {
   "cell_type": "markdown",
   "id": "78481d8c",
   "metadata": {},
   "source": [
    "## Numerical Comparisons"
   ]
  },
  {
   "cell_type": "code",
   "execution_count": 10,
   "id": "e595e65a",
   "metadata": {},
   "outputs": [
    {
     "data": {
      "text/plain": [
       "True"
      ]
     },
     "execution_count": 10,
     "metadata": {},
     "output_type": "execute_result"
    }
   ],
   "source": [
    "age = 18\n",
    "age == 18"
   ]
  },
  {
   "cell_type": "code",
   "execution_count": 11,
   "id": "4139427d",
   "metadata": {},
   "outputs": [
    {
     "name": "stdout",
     "output_type": "stream",
     "text": [
      "This is not the correct answer. Please try again!\n"
     ]
    }
   ],
   "source": [
    "# file:- magic_number.py\n",
    "\n",
    "answer = 17\n",
    "\n",
    "if answer != 42:\n",
    "    print(\"This is not the correct answer. Please try again!\")"
   ]
  },
  {
   "cell_type": "code",
   "execution_count": 12,
   "id": "1c74aad7",
   "metadata": {},
   "outputs": [
    {
     "data": {
      "text/plain": [
       "True"
      ]
     },
     "execution_count": 12,
     "metadata": {},
     "output_type": "execute_result"
    }
   ],
   "source": [
    "age = 19\n",
    "age < 21"
   ]
  },
  {
   "cell_type": "code",
   "execution_count": 13,
   "id": "9bebb2a1",
   "metadata": {},
   "outputs": [
    {
     "data": {
      "text/plain": [
       "True"
      ]
     },
     "execution_count": 13,
     "metadata": {},
     "output_type": "execute_result"
    }
   ],
   "source": [
    "age <= 21"
   ]
  },
  {
   "cell_type": "code",
   "execution_count": 14,
   "id": "ed85fe82",
   "metadata": {},
   "outputs": [
    {
     "data": {
      "text/plain": [
       "False"
      ]
     },
     "execution_count": 14,
     "metadata": {},
     "output_type": "execute_result"
    }
   ],
   "source": [
    "age > 21"
   ]
  },
  {
   "cell_type": "code",
   "execution_count": 15,
   "id": "841fc20b",
   "metadata": {},
   "outputs": [
    {
     "data": {
      "text/plain": [
       "False"
      ]
     },
     "execution_count": 15,
     "metadata": {},
     "output_type": "execute_result"
    }
   ],
   "source": [
    "age >= 21"
   ]
  },
  {
   "cell_type": "markdown",
   "id": "40d4cf4f",
   "metadata": {},
   "source": [
    "## Checking Multiple Conditions"
   ]
  },
  {
   "cell_type": "code",
   "execution_count": null,
   "id": "871d14d5",
   "metadata": {},
   "outputs": [],
   "source": [
    "\"\"\"\n",
    "Using keywords \"and\" and \"or\".\n",
    "\"\"\""
   ]
  },
  {
   "cell_type": "code",
   "execution_count": 16,
   "id": "698846bb",
   "metadata": {},
   "outputs": [
    {
     "data": {
      "text/plain": [
       "False"
      ]
     },
     "execution_count": 16,
     "metadata": {},
     "output_type": "execute_result"
    }
   ],
   "source": [
    "# using 'and'\n",
    "age_0 = 22\n",
    "age_1 = 18\n",
    "age_0 >= 21 and age_1 >= 21"
   ]
  },
  {
   "cell_type": "code",
   "execution_count": 17,
   "id": "ea846780",
   "metadata": {},
   "outputs": [
    {
     "data": {
      "text/plain": [
       "True"
      ]
     },
     "execution_count": 17,
     "metadata": {},
     "output_type": "execute_result"
    }
   ],
   "source": [
    "age_1 = 22\n",
    "age_0 >= 21 and age_1 >= 21"
   ]
  },
  {
   "cell_type": "code",
   "execution_count": 18,
   "id": "636b6ffc",
   "metadata": {},
   "outputs": [
    {
     "data": {
      "text/plain": [
       "True"
      ]
     },
     "execution_count": 18,
     "metadata": {},
     "output_type": "execute_result"
    }
   ],
   "source": [
    "(age_0 >= 21) and (age_1 >= 21) # for better readability. "
   ]
  },
  {
   "cell_type": "code",
   "execution_count": 19,
   "id": "315cd1c8",
   "metadata": {},
   "outputs": [
    {
     "data": {
      "text/plain": [
       "True"
      ]
     },
     "execution_count": 19,
     "metadata": {},
     "output_type": "execute_result"
    }
   ],
   "source": [
    "# using 'or'\n",
    "age_0 = 22\n",
    "age_1 = 18\n",
    "age_0 >= 21 or age_1 >= 21"
   ]
  },
  {
   "cell_type": "code",
   "execution_count": 20,
   "id": "d3990d4c",
   "metadata": {},
   "outputs": [
    {
     "data": {
      "text/plain": [
       "True"
      ]
     },
     "execution_count": 20,
     "metadata": {},
     "output_type": "execute_result"
    }
   ],
   "source": [
    "age_1 = 22\n",
    "age_0 >= 21 or age_1 >= 21"
   ]
  },
  {
   "cell_type": "markdown",
   "id": "68f510cb",
   "metadata": {},
   "source": [
    "## Checking Whether a Value is in List"
   ]
  },
  {
   "cell_type": "code",
   "execution_count": null,
   "id": "178cafd4",
   "metadata": {},
   "outputs": [],
   "source": [
    "\"\"\"\n",
    "To find whether a particular value is already in a list, use \"in\".\n",
    "\"\"\""
   ]
  },
  {
   "cell_type": "code",
   "execution_count": 21,
   "id": "91be93c2",
   "metadata": {},
   "outputs": [
    {
     "data": {
      "text/plain": [
       "True"
      ]
     },
     "execution_count": 21,
     "metadata": {},
     "output_type": "execute_result"
    }
   ],
   "source": [
    "request_toppings = ['mushrooms', 'onions', 'pineapple']\n",
    "'mushrooms' in requested_topping"
   ]
  },
  {
   "cell_type": "code",
   "execution_count": 22,
   "id": "69623ef4",
   "metadata": {},
   "outputs": [
    {
     "data": {
      "text/plain": [
       "False"
      ]
     },
     "execution_count": 22,
     "metadata": {},
     "output_type": "execute_result"
    }
   ],
   "source": [
    "'pepperoni' in requested_topping"
   ]
  },
  {
   "cell_type": "markdown",
   "id": "671c19f5",
   "metadata": {},
   "source": [
    "## Checking Whether a Value Not in a List"
   ]
  },
  {
   "cell_type": "code",
   "execution_count": 23,
   "id": "7430b67d",
   "metadata": {},
   "outputs": [
    {
     "name": "stdout",
     "output_type": "stream",
     "text": [
      "Marie, you can post a response if you wish.\n"
     ]
    }
   ],
   "source": [
    "# file:- banned_users.py\n",
    "\n",
    "banned_users = [\"andrew\", \"carolina\", \"david\"]\n",
    "user = \"marie\"\n",
    "\n",
    "if user not in banned_users:\n",
    "    print(user.title() + \", you can post a response if you wish.\")"
   ]
  },
  {
   "cell_type": "markdown",
   "id": "d0b17a2c",
   "metadata": {},
   "source": [
    "## Boolean Expression"
   ]
  },
  {
   "cell_type": "code",
   "execution_count": 24,
   "id": "615089da",
   "metadata": {},
   "outputs": [],
   "source": [
    "\"\"\"\n",
    "Another name for conditional test. \n",
    "Boolean Value is either True or False. \n",
    "\n",
    "Boolean values are often used to keep track of certain conditions, such \n",
    "as whether a game is running or whether a user can edit certain content on \n",
    "a website:\n",
    "\"\"\"\n",
    "game_active = True\n",
    "can_edit = False"
   ]
  },
  {
   "cell_type": "code",
   "execution_count": 7,
   "id": "e9d3380b",
   "metadata": {},
   "outputs": [
    {
     "name": "stdout",
     "output_type": "stream",
     "text": [
      "Is car1 == car2? I predict True\n",
      "True\n",
      "2530908086000\n",
      "2530908086000\n",
      "\n",
      "id(5) = 2530823373168\n",
      "id(n = 5) = 2530823373168\n"
     ]
    }
   ],
   "source": [
    "\"\"\"\n",
    "5-1. Conditional Tests: Write a series of conditional tests. Print a statement \n",
    "describing each test and your prediction for the results of each test. Your code \n",
    "should look something like this:\n",
    "\n",
    "car = 'subaru'\n",
    "print(\"Is car == 'subaru'? I predict True.\")\n",
    "print(car == 'subaru')\n",
    "\n",
    "print(\"\\nIs car == 'audi'? I predict False.\")\n",
    "print(car == 'audi')\n",
    "\n",
    "•\t Look closely at your results, and make sure you understand why each line \n",
    "evaluates to True or False.\n",
    "•\t Create at least 10 tests. Have at least 5 tests evaluate to True and another \n",
    "5 tests evaluate to False.\n",
    "\"\"\"\n",
    "\n",
    "car1 = \"subaru\"\n",
    "car2 = \"subaru\"\n",
    "\n",
    "print(\"Is car1 == car2? I predict True\")\n",
    "print(car1 == car2)\n",
    "\n",
    "print(id(car1))\n",
    "print(id(car2))\n",
    "\n",
    "\"\"\"\n",
    "The id() method returns a unique integer (identity) of a passed argument object.\n",
    "Syntax:- id(object)\n",
    "object - can be a class, variable, list, tuple, set, etc.\n",
    "\n",
    "Return Value:- the identity of the object (which is a unique integer for a given object)\n",
    "\"\"\"\n",
    "\n",
    "print(\"\\nid(5) = \" + str(id(5)))\n",
    "n = 5\n",
    "print(\"id(n = 5) = \" + str(id(n)))\n",
    "\n",
    "\"\"\"\n",
    "The concept here is that, all objects are unique and stored as only one copy.\n",
    "Here we connect the concept of immutability. \n",
    "We can't modify strings, but we change our reference to new strings. \n",
    "Object once created are not modified themselves, but we modify our references.\n",
    "\"\"\""
   ]
  },
  {
   "cell_type": "code",
   "execution_count": 20,
   "id": "640297d4",
   "metadata": {},
   "outputs": [
    {
     "name": "stdout",
     "output_type": "stream",
     "text": [
      "str1 == str2 -> False\n",
      "str2 == str3 -> False\n",
      "str1.lower() == str2.lower() -> True\n",
      "str1 != str2 -> True\n",
      "str1 > str2 -> False\n",
      "str1 < str2 -> True\n",
      "str1 >= str3 -> True\n"
     ]
    }
   ],
   "source": [
    "\"\"\"\n",
    "5-2. More Conditional Tests: You don’t have to limit the number of tests you \n",
    "create to 10. If you want to try more comparisons, write more tests and add \n",
    "them to conditional_tests.py. Have at least one True and one False result for \n",
    "each of the following:\n",
    "•\t Tests for equality and inequality with strings\n",
    "•\t Tests using the lower() function\n",
    "•\t Numerical tests involving equality and inequality, greater than and \n",
    "less than, greater than or equal to, and less than or equal to\n",
    "•\t Tests using the and keyword and the or keyword\n",
    "•\t Test whether an item is in a list\n",
    "•\t Test whether an item is not in a list\n",
    "\"\"\"\n",
    "str1 = \"Naveen\"\n",
    "str2 = \"naveen\"\n",
    "str3 = \"Naveen\"\n",
    "\n",
    "print(\"str1 == str2 -> \" + str(str1 == str2))\n",
    "print(\"str2 == str3 -> \" + str(str2 == str3))\n",
    "print(\"str1.lower() == str2.lower() -> \" + str(str1.lower() == str2.lower()))\n",
    "print(\"str1 != str2 -> \" + str(str1 != str2))\n",
    "print(\"str1 > str2 -> \" + str(str1 > str2))\n",
    "print(\"str1 < str2 -> \" + str(str1 < str2))\n",
    "print(\"str1 >= str3 -> \" + str(str1 >= str3))"
   ]
  },
  {
   "cell_type": "markdown",
   "id": "5e1dcbc3",
   "metadata": {},
   "source": [
    "# if Statements"
   ]
  },
  {
   "cell_type": "markdown",
   "id": "59d935b0",
   "metadata": {},
   "source": [
    "## Simple if Statements"
   ]
  },
  {
   "cell_type": "code",
   "execution_count": 22,
   "id": "e18b73b6",
   "metadata": {},
   "outputs": [
    {
     "name": "stdout",
     "output_type": "stream",
     "text": [
      "\n"
     ]
    }
   ],
   "source": [
    "\"\"\"\n",
    "if conditioanl_test:\n",
    "    do somethings\n",
    "\"\"\"\n",
    "print()"
   ]
  },
  {
   "cell_type": "code",
   "execution_count": 23,
   "id": "8c3431cd",
   "metadata": {},
   "outputs": [
    {
     "name": "stdout",
     "output_type": "stream",
     "text": [
      "You are old enough to vote!\n"
     ]
    }
   ],
   "source": [
    "# file:- voting.py\n",
    "age = 19\n",
    "if age >= 18:\n",
    "    print(\"You are old enough to vote!\")"
   ]
  },
  {
   "cell_type": "code",
   "execution_count": 24,
   "id": "18b1a5ee",
   "metadata": {},
   "outputs": [
    {
     "name": "stdout",
     "output_type": "stream",
     "text": [
      "You are old enough to vote!\n",
      "Have you registered to vote yet?\n"
     ]
    }
   ],
   "source": [
    "age = 19\n",
    "if age >= 18:\n",
    "    print(\"You are old enough to vote!\")\n",
    "    print(\"Have you registered to vote yet?\")"
   ]
  },
  {
   "cell_type": "markdown",
   "id": "13a28a81",
   "metadata": {},
   "source": [
    "## if-else Statements"
   ]
  },
  {
   "cell_type": "code",
   "execution_count": 25,
   "id": "0a92a7a5",
   "metadata": {},
   "outputs": [
    {
     "name": "stdout",
     "output_type": "stream",
     "text": [
      "Sorry, you are too young to vote.\n",
      "Please register to vote as soon as you turn 18!\n"
     ]
    }
   ],
   "source": [
    "age = 17\n",
    "if age >= 18:\n",
    "    print(\"You are old enough to vote!\")\n",
    "    print(\"Have you registered to vote yet?\")\n",
    "else:\n",
    "    print(\"Sorry, you are too young to vote.\")\n",
    "    print(\"Please register to vote as soon as you turn 18!\")"
   ]
  },
  {
   "cell_type": "markdown",
   "id": "40525907",
   "metadata": {},
   "source": [
    "## The if-elif-else Chain"
   ]
  },
  {
   "cell_type": "code",
   "execution_count": 26,
   "id": "1589fedd",
   "metadata": {},
   "outputs": [
    {
     "name": "stdout",
     "output_type": "stream",
     "text": [
      "Your admission cost is $5\n"
     ]
    }
   ],
   "source": [
    "# file:- amusement_park.py\n",
    "\n",
    "age = 12\n",
    "\n",
    "if age < 4:\n",
    "    print(\"Your admission cost is $0\")\n",
    "elif age < 18:\n",
    "    print(\"Your admission cost is $5\")\n",
    "else:\n",
    "    print(\"Your admission cost is $10\")\n",
    "    "
   ]
  },
  {
   "cell_type": "code",
   "execution_count": 28,
   "id": "754f3398",
   "metadata": {},
   "outputs": [
    {
     "name": "stdout",
     "output_type": "stream",
     "text": [
      "Your admission cost is $5.\n"
     ]
    }
   ],
   "source": [
    "# file:- amusement_park.py\n",
    "\n",
    "age = 12\n",
    "\n",
    "if age < 4:\n",
    "    price = 0\n",
    "elif age < 18:\n",
    "    price = 5\n",
    "else:\n",
    "    price = 10\n",
    "\n",
    "print(\"Your admission cost is $\" + str(price) + \".\")"
   ]
  },
  {
   "cell_type": "code",
   "execution_count": 29,
   "id": "bb8ecf5c",
   "metadata": {},
   "outputs": [
    {
     "ename": "NameError",
     "evalue": "name 'new_price' is not defined",
     "output_type": "error",
     "traceback": [
      "\u001b[1;31m---------------------------------------------------------------------------\u001b[0m",
      "\u001b[1;31mNameError\u001b[0m                                 Traceback (most recent call last)",
      "Cell \u001b[1;32mIn[29], line 8\u001b[0m\n\u001b[0;32m      5\u001b[0m \u001b[38;5;28;01mif\u001b[39;00m age \u001b[38;5;241m<\u001b[39m \u001b[38;5;241m4\u001b[39m:\n\u001b[0;32m      6\u001b[0m     new_price \u001b[38;5;241m=\u001b[39m \u001b[38;5;241m1\u001b[39m\n\u001b[1;32m----> 8\u001b[0m \u001b[38;5;28mprint\u001b[39m(\u001b[38;5;124m\"\u001b[39m\u001b[38;5;124mYour admission cost in $\u001b[39m\u001b[38;5;124m\"\u001b[39m \u001b[38;5;241m+\u001b[39m \u001b[38;5;28mstr\u001b[39m(\u001b[43mnew_price\u001b[49m) \u001b[38;5;241m+\u001b[39m \u001b[38;5;124m\"\u001b[39m\u001b[38;5;124m.\u001b[39m\u001b[38;5;124m\"\u001b[39m)\n",
      "\u001b[1;31mNameError\u001b[0m: name 'new_price' is not defined"
     ]
    }
   ],
   "source": [
    "\"\"\"\n",
    "Hmm. let's look at one case.\n",
    "\"\"\"\n",
    "age = 12\n",
    "if age < 4:\n",
    "    new_price = 1\n",
    "    \n",
    "print(\"Your admission cost in $\" + str(new_price) + \".\")"
   ]
  },
  {
   "cell_type": "markdown",
   "id": "7332732c",
   "metadata": {},
   "source": [
    "## Using Multiple elif Blocks"
   ]
  },
  {
   "cell_type": "code",
   "execution_count": 30,
   "id": "517161c4",
   "metadata": {},
   "outputs": [
    {
     "name": "stdout",
     "output_type": "stream",
     "text": [
      "Your admission cost is $5.\n"
     ]
    }
   ],
   "source": [
    "age = 12\n",
    "\n",
    "if age < 4:\n",
    "    price = 0\n",
    "elif age < 18:\n",
    "    price = 5\n",
    "elif age < 65:\n",
    "    prince = 10\n",
    "else:\n",
    "    price = 5\n",
    "\n",
    "print(\"Your admission cost is $\" + str(price) + \".\")"
   ]
  },
  {
   "cell_type": "markdown",
   "id": "d272e117",
   "metadata": {},
   "source": [
    "## Omitting the else Block"
   ]
  },
  {
   "cell_type": "code",
   "execution_count": 31,
   "id": "3d973ba1",
   "metadata": {},
   "outputs": [
    {
     "name": "stdout",
     "output_type": "stream",
     "text": [
      "Your admission cost is $5.\n"
     ]
    }
   ],
   "source": [
    "\"\"\"\n",
    "Python does not require an else block at the end of an if-elif chain. Some-\n",
    "times an else block is useful; sometimes it is clearer to use an additional \n",
    "elif statement that catches the specific condition of interest:\n",
    "\n",
    "else block is a catchall statement and can't assure 100% correctness.\n",
    "\"\"\"\n",
    "\n",
    "age = 12\n",
    "\n",
    "if age < 4:\n",
    "    price = 0\n",
    "elif age < 18:\n",
    "    price = 5\n",
    "elif age < 65:\n",
    "    prince = 10\n",
    "elif age >= 65: # this is better when fast reading code and strong code.\n",
    "    price = 5\n",
    "\n",
    "print(\"Your admission cost is $\" + str(price) + \".\")"
   ]
  },
  {
   "cell_type": "markdown",
   "id": "0002f55a",
   "metadata": {},
   "source": [
    "## Testing Multiple Conditions"
   ]
  },
  {
   "cell_type": "code",
   "execution_count": 34,
   "id": "23581a06",
   "metadata": {},
   "outputs": [
    {
     "name": "stdout",
     "output_type": "stream",
     "text": [
      "Adding mushrooms\n",
      "Adding extra cheese.\n",
      "\n",
      "Finished making your pizza!\n"
     ]
    }
   ],
   "source": [
    "\"\"\"\n",
    "The if-elif-else chain is powerful, but it’s only appropriate to use when you \n",
    "just need one test to pass. As soon as Python finds one test that passes, it \n",
    "skips the rest of the tests. This behavior is beneficial, because it’s efficient \n",
    "and allows you to test for one specific condition.\n",
    "\"\"\"\n",
    "requested_toppings = [\"mushrooms\", \"extra cheese\"]\n",
    "\n",
    "if \"mushrooms\" in requested_toppings:\n",
    "    print(\"Adding mushrooms.\")\n",
    "if \"pepperoni\" in requested_toppings:\n",
    "    print(\"Adding pepperoni.\")\n",
    "if \"extra cheese\" in requested_toppings:\n",
    "    print(\"Adding extra cheese.\")\n",
    "    \n",
    "print(\"\\nFinished making your pizza!\")"
   ]
  },
  {
   "cell_type": "code",
   "execution_count": 35,
   "id": "49458869",
   "metadata": {},
   "outputs": [
    {
     "name": "stdout",
     "output_type": "stream",
     "text": [
      "Adding mushrooms.\n",
      "\n",
      "Finished making your pizza!\n"
     ]
    }
   ],
   "source": [
    "requested_toppings = [\"mushrooms\", \"extra cheese\"]\n",
    "\n",
    "if \"mushrooms\" in requested_toppings:\n",
    "    print(\"Adding mushrooms.\")\n",
    "elif \"pepperoni\" in requested_toppings:\n",
    "    print(\"Adding pepperoni.\")\n",
    "elif \"extra cheese\" in requested_toppings:\n",
    "    print(\"Adding extra cheese.\")\n",
    "    \n",
    "print(\"\\nFinished making your pizza!\")"
   ]
  },
  {
   "cell_type": "code",
   "execution_count": 38,
   "id": "e30d8f18",
   "metadata": {},
   "outputs": [
    {
     "name": "stdout",
     "output_type": "stream",
     "text": [
      "Player just earned 5 points.\n",
      "Player just earned 0 points.\n"
     ]
    }
   ],
   "source": [
    "\"\"\"\n",
    "5-3. Alien Colors #1: Imagine an alien was just shot down in a game. Create a \n",
    "variable called alien_color and assign it a value of 'green', 'yellow', or 'red'.\n",
    "•\t Write an if statement to test whether the alien’s color is green. If it is, print \n",
    "a message that the player just earned 5 points.\n",
    "•\t Write one version of this program that passes the if test and another that \n",
    "fails. (The version that fails will have no output.)\n",
    "\"\"\"\n",
    "alien_color = \"green\"\n",
    "\n",
    "if alien_color == \"green\":\n",
    "    points = 5\n",
    "\n",
    "print(\"Player just earned \" + str(points) + \" points.\")\n",
    "\n",
    "points = 0\n",
    "alien_color = \"red\"\n",
    "\n",
    "if alien_color == \"green\":\n",
    "    points = 5\n",
    "\n",
    "print(\"Player just earned \" + str(points) + \" points.\")"
   ]
  },
  {
   "cell_type": "code",
   "execution_count": 39,
   "id": "7ab1f3f9",
   "metadata": {},
   "outputs": [
    {
     "name": "stdout",
     "output_type": "stream",
     "text": [
      "Player just earned 5 points.\n",
      "Player just earned 10 points.\n"
     ]
    }
   ],
   "source": [
    "\"\"\"\n",
    "5-4. Alien Colors #2: Choose a color for an alien as you did in Exercise 5-3, and \n",
    "write an if-else chain.\n",
    "•\t If the alien’s color is green, print a statement that the player just earned \n",
    "5 points for shooting the alien.\n",
    "•\t If the alien’s color isn’t green, print a statement that the player just earned \n",
    "10 points.\n",
    "•\t Write one version of this program that runs the if block and another that \n",
    "runs the else block.\n",
    "\"\"\"\n",
    "\n",
    "alien_color = \"green\"\n",
    "if alien_color == \"green\":\n",
    "    points = 5\n",
    "else:\n",
    "    points = 10\n",
    "print(\"Player just earned \" + str(points) + \" points.\")\n",
    "\n",
    "alien_color = \"red\"\n",
    "if alien_color == \"green\":\n",
    "    points = 5\n",
    "else:\n",
    "    points = 10\n",
    "print(\"Player just earned \" + str(points) + \" points.\")"
   ]
  },
  {
   "cell_type": "code",
   "execution_count": 40,
   "id": "dcab8358",
   "metadata": {},
   "outputs": [
    {
     "name": "stdout",
     "output_type": "stream",
     "text": [
      "Player just earned 5 points.\n",
      "Player just earned 15 points.\n",
      "Player just earned 10 points.\n"
     ]
    }
   ],
   "source": [
    "\"\"\"\n",
    "5-5. Alien Colors #3: Turn your if-else chain from Exercise 5-4 into an if-elif-\n",
    "else chain.\n",
    "•\t If the alien is green, print a message that the player earned 5 points.\n",
    "•\t If the alien is yellow, print a message that the player earned 10 points.\n",
    "•\t If the alien is red, print a message that the player earned 15 points.\n",
    "•\t Write three versions of this program, making sure each message is printed \n",
    "for the appropriate color alien.\n",
    "\"\"\"\n",
    "\n",
    "alien_color = \"green\"\n",
    "if alien_color == \"green\":\n",
    "    points = 5\n",
    "elif alien_color == \"yellow\":\n",
    "    points = 10\n",
    "elif alien_color == \"red\":\n",
    "    points = 15\n",
    "print(\"Player just earned \" + str(points) + \" points.\")\n",
    "\n",
    "alien_color = \"red\"\n",
    "if alien_color == \"green\":\n",
    "    points = 5\n",
    "elif alien_color == \"yellow\":\n",
    "    points = 10\n",
    "elif alien_color == \"red\":\n",
    "    points = 15\n",
    "print(\"Player just earned \" + str(points) + \" points.\")\n",
    "\n",
    "alien_color = \"yellow\"\n",
    "if alien_color == \"green\":\n",
    "    points = 5\n",
    "elif alien_color == \"yellow\":\n",
    "    points = 10\n",
    "elif alien_color == \"red\":\n",
    "    points = 15\n",
    "print(\"Player just earned \" + str(points) + \" points.\")"
   ]
  },
  {
   "cell_type": "code",
   "execution_count": 43,
   "id": "1e0bfb61",
   "metadata": {},
   "outputs": [
    {
     "name": "stdout",
     "output_type": "stream",
     "text": [
      "Person is toddler.\n"
     ]
    }
   ],
   "source": [
    "\"\"\"\n",
    "5-6. Stages of Life: Write an if-elif-else chain that determines a person’s \n",
    "stage of life. Set a value for the variable age, and then:\n",
    "•\t If the person is less than 2 years old, print a message that the person is \n",
    "a baby.\n",
    "•\t If the person is at least 2 years old but less than 4, print a message that \n",
    "the person is a toddler.\n",
    "•\t If the person is at least 4 years old but less than 13, print a message that \n",
    "the person is a kid.\n",
    "•\t If the person is at least 13 years old but less than 20, print a message that \n",
    "the person is a teenager.\n",
    "•\t If the person is at least 20 years old but less than 65, print a message that \n",
    "the person is an adult.\n",
    "•\t If the person is age 65 or older, print a message that the person is an \n",
    "elder.\n",
    "\"\"\"\n",
    "\n",
    "age = 3\n",
    "\n",
    "if age < 2:\n",
    "    person = \"baby\"\n",
    "elif age < 4:\n",
    "    person = \"toddler\"\n",
    "elif age < 13:\n",
    "    person = \"kid\"\n",
    "elif age < 20:\n",
    "    person = \"teenager\"\n",
    "elif age < 65:\n",
    "    person = \"adult\"\n",
    "elif age >= 65:\n",
    "    person = \"elder\"\n",
    "    \n",
    "print(\"Person is \" + person + \".\")"
   ]
  },
  {
   "cell_type": "code",
   "execution_count": 46,
   "id": "060d6c94",
   "metadata": {},
   "outputs": [
    {
     "name": "stdout",
     "output_type": "stream",
     "text": [
      "You really like orange navel!\n",
      "You really like banana!\n",
      "You really like watermelon!\n"
     ]
    }
   ],
   "source": [
    "\"\"\"\n",
    "5-7. Favorite Fruit: Make a list of your favorite fruits, and then write a series of \n",
    "independent if statements that check for certain fruits in your list.\n",
    "•\t Make a list of your three favorite fruits and call it favorite_fruits.\n",
    "•\t Write five if statements. Each should check whether a certain kind of fruit \n",
    "is in your list. If the fruit is in your list, the if block should print a statement, \n",
    "such as You really like bananas!\n",
    "\"\"\"\n",
    "\n",
    "favorite_fruits = [\"orange navel\", \"banana\", \"watermelon\"]\n",
    "\n",
    "fruit = \"apple\"\n",
    "if fruit in favorite_fruits:\n",
    "    print(\"You really like \" + fruit + \"!\")\n",
    "    \n",
    "fruit = \"grapes\"\n",
    "if fruit in favorite_fruits:\n",
    "    print(\"You really like \" + fruit + \"!\")\n",
    "\n",
    "fruit = \"orange navel\"\n",
    "if fruit in favorite_fruits:\n",
    "    print(\"You really like \" + fruit + \"!\")\n",
    "    \n",
    "fruit = \"banana\"\n",
    "if fruit in favorite_fruits:\n",
    "    print(\"You really like \" + fruit + \"!\")\n",
    "    \n",
    "fruit = \"watermelon\"\n",
    "if fruit in favorite_fruits:\n",
    "    print(\"You really like \" + fruit + \"!\")\n",
    "    "
   ]
  },
  {
   "cell_type": "markdown",
   "id": "78a45a47",
   "metadata": {},
   "source": [
    "# Using if Statement with Lists"
   ]
  },
  {
   "cell_type": "markdown",
   "id": "54b483b7",
   "metadata": {},
   "source": [
    "## Checking for Special Items"
   ]
  },
  {
   "cell_type": "code",
   "execution_count": 49,
   "id": "b6acd5df",
   "metadata": {},
   "outputs": [
    {
     "name": "stdout",
     "output_type": "stream",
     "text": [
      "Adding mushrooms.\n",
      "Adding green peppers.\n",
      "Adding extra cheese.\n",
      "\n",
      "Finished making your pizza!\n"
     ]
    }
   ],
   "source": [
    "# file:- toppings.py\n",
    "\n",
    "requested_toppings = [\"mushrooms\", \"green peppers\", \"extra cheese\"]\n",
    "\n",
    "for requested_topping in requested_toppings:\n",
    "    print(\"Adding \" + requested_topping + \".\")\n",
    "    \n",
    "print(\"\\nFinished making your pizza!\")"
   ]
  },
  {
   "cell_type": "code",
   "execution_count": 50,
   "id": "b5f2f912",
   "metadata": {},
   "outputs": [
    {
     "name": "stdout",
     "output_type": "stream",
     "text": [
      "Adding mushrooms.\n",
      "Sorry, we are out of green peppers right now.\n",
      "Adding extra cheese.\n",
      "\n",
      "Finished making your pizza!\n"
     ]
    }
   ],
   "source": [
    "# say \"green peppers\" is unavailable.\n",
    "\n",
    "requested_toppings = [\"mushrooms\", \"green peppers\", \"extra cheese\"]\n",
    "\n",
    "for requested_topping in requested_toppings:\n",
    "    if requested_topping == \"green peppers\":\n",
    "        print(\"Sorry, we are out of green peppers right now.\")\n",
    "    else:\n",
    "        print(\"Adding \" + requested_topping + \".\")\n",
    "    \n",
    "print(\"\\nFinished making your pizza!\")"
   ]
  },
  {
   "cell_type": "markdown",
   "id": "0db9ceaf",
   "metadata": {},
   "source": [
    "## Checking That a List Is Not Empty"
   ]
  },
  {
   "cell_type": "code",
   "execution_count": 51,
   "id": "8335b23b",
   "metadata": {},
   "outputs": [
    {
     "name": "stdout",
     "output_type": "stream",
     "text": [
      "Are you sure you want a plain pizza?\n"
     ]
    }
   ],
   "source": [
    "\"\"\"\n",
    "When the name of a list is used in an if statement, \n",
    "Python returns True if the list contains at least one item; \n",
    "an empty list evaluates to False.\n",
    "\"\"\"\n",
    "\n",
    "requested_toppings = []\n",
    "\n",
    "if requested_toppings:\n",
    "    for requested_topping in requested_toppings:\n",
    "        print(\"Adding \" + requested_topping + \".\")\n",
    "    print(\"\\nFinished making your pizza!\")\n",
    "else:\n",
    "    print(\"Are you sure you want a plain pizza?\")"
   ]
  },
  {
   "cell_type": "markdown",
   "id": "0428faab",
   "metadata": {},
   "source": [
    "## Using Multiple Lists"
   ]
  },
  {
   "cell_type": "code",
   "execution_count": 54,
   "id": "a56e277e",
   "metadata": {},
   "outputs": [
    {
     "name": "stdout",
     "output_type": "stream",
     "text": [
      "Adding mushrooms.\n",
      "Sorry, we don't have french fries.\n",
      "Adding extra cheese.\n",
      "\n",
      "Finished making your pizza!\n"
     ]
    }
   ],
   "source": [
    "available_toppings = [\"mushrooms\", \"olives\", \"green peppers\",\n",
    "                      \"pepperoni\", \"pineapple\", \"extra cheese\"]\n",
    "\n",
    "requested_toppings = [\"mushrooms\", \"french fries\", \"extra cheese\"]\n",
    "\n",
    "for requested_topping in requested_toppings:\n",
    "    if requested_topping in available_toppings:\n",
    "        print(\"Adding \" + requested_topping + \".\")\n",
    "    else:\n",
    "        print(\"Sorry, we don't have \" + requested_topping + \".\")\n",
    "    \n",
    "print(\"\\nFinished making your pizza!\")"
   ]
  },
  {
   "cell_type": "code",
   "execution_count": 56,
   "id": "4be23b4f",
   "metadata": {},
   "outputs": [
    {
     "name": "stdout",
     "output_type": "stream",
     "text": [
      "Greeting, taylorswift.\n",
      "Greeting, mrcouchking.\n",
      "Hello admin, would you like to see a status report?\n",
      "Greeting, rns.\n",
      "Greeting, dji.\n"
     ]
    }
   ],
   "source": [
    "\"\"\"\n",
    "5-8. Hello Admin: Make a list of five or more usernames, including the name \n",
    "'admin'. Imagine you are writing code that will print a greeting to each user \n",
    "after they log in to a website. Loop through the list, and print a greeting to \n",
    "each user:\n",
    "•\t If the username is 'admin', print a special greeting, such as Hello admin, \n",
    "would you like to see a status report?\n",
    "•\t Otherwise, print a generic greeting, such as Hello Eric, thank you for log-\n",
    "ging in again.\n",
    "\"\"\"\n",
    "usernames = [\"taylorswift\", \"mrcouchking\", \"admin\", \"rns\", \"dji\"]\n",
    "\n",
    "for username in usernames:\n",
    "    if username == \"admin\":\n",
    "        print(\"Hello admin, would you like to see a status report?\")\n",
    "    else:\n",
    "        print(\"Greeting, \" + username + \".\")\n"
   ]
  },
  {
   "cell_type": "code",
   "execution_count": 57,
   "id": "45f28357",
   "metadata": {},
   "outputs": [
    {
     "name": "stdout",
     "output_type": "stream",
     "text": [
      "We need to find some users!\n"
     ]
    }
   ],
   "source": [
    "\"\"\"\n",
    "5-9. No Users: Add an if test to hello_admin.py to make sure the list of users is \n",
    "not empty.\n",
    "•\t If the list is empty, print the message We need to find some users!\n",
    "•\t Remove all of the usernames from your list, and make sure the correct \n",
    "message is printed.\n",
    "\"\"\"\n",
    "\n",
    "usernames = []\n",
    "\n",
    "if usernames:\n",
    "    for username in usernames:\n",
    "        if username == \"admin\":\n",
    "            print(\"Hello admin, would you like to see a status report?\")\n",
    "        else:\n",
    "            print(\"Greeting, \" + username + \".\")\n",
    "else:\n",
    "    print(\"We need to find some users!\")\n"
   ]
  },
  {
   "cell_type": "code",
   "execution_count": 60,
   "id": "c6682ea8",
   "metadata": {},
   "outputs": [
    {
     "name": "stdout",
     "output_type": "stream",
     "text": [
      "rns will need a new username.\n",
      "rdj username is available.\n",
      "taylor username is available.\n",
      "ryan username is available.\n",
      "dji will need a new username.\n"
     ]
    }
   ],
   "source": [
    "\"\"\"\n",
    "5-10. Checking Usernames: Do the following to create a program that simulates \n",
    "how websites ensure that everyone has a unique username.\n",
    "•\t Make a list of five or more usernames called current_users.\n",
    "•\t Make another list of five usernames called new_users. Make sure one or \n",
    "two of the new usernames are also in the current_users list.\n",
    "•\t Loop through the new_users list to see if each new username has already \n",
    "been used. If it has, print a message that the person will need to enter a \n",
    "new username. If a username has not been used, print a message saying \n",
    "that the username is available.\n",
    "•\t Make sure your comparison is case insensitive. If 'John' has been used, \n",
    "'JOHN' should not be accepted.\n",
    "\"\"\"\n",
    "\n",
    "current_users = [\"taylorswift\", \"mrcouchking\", \"admin\", \"rns\", \"dji\"]\n",
    "new_users = [\"rns\", \"rdj\", \"taylor\", \"ryan\", \"dji\"]\n",
    "\n",
    "for new_user in new_users:\n",
    "    if new_user.lower() in current_users:\n",
    "        print(new_user + \" will need a new username.\")\n",
    "    else:\n",
    "        print(new_user + \" username is available.\")"
   ]
  },
  {
   "cell_type": "code",
   "execution_count": 61,
   "id": "26433d1a",
   "metadata": {},
   "outputs": [
    {
     "name": "stdout",
     "output_type": "stream",
     "text": [
      "1st\n",
      "2nd\n",
      "3rd\n",
      "4th\n",
      "5th\n",
      "6th\n",
      "7th\n",
      "8th\n",
      "9th\n"
     ]
    }
   ],
   "source": [
    "\"\"\"\n",
    "5-11. Ordinal Numbers: Ordinal numbers indicate their position in a list, such \n",
    "as 1st or 2nd. Most ordinal numbers end in th, except 1, 2, and 3.\n",
    "•\t Store the numbers 1 through 9 in a list.\n",
    "•\t Loop through the list.\n",
    "•\t Use an if-elif-else chain inside the loop to print the proper ordinal end-\n",
    "ing for each number. Your output should read \"1st 2nd 3rd 4th 5th 6th \n",
    "7th 8th 9th\", and each result should be on a separate line.\n",
    "\"\"\"\n",
    "numbers = list(range(1,10))\n",
    "\n",
    "for number in numbers:\n",
    "    if number == 1:\n",
    "        print(\"1st\")\n",
    "    elif number == 2:\n",
    "        print(\"2nd\")\n",
    "    elif number == 3:\n",
    "        print(\"3rd\")\n",
    "    elif number < 10:\n",
    "        print(str(number) + \"th\")\n"
   ]
  },
  {
   "cell_type": "markdown",
   "id": "d46d10a5",
   "metadata": {},
   "source": [
    "# Styling Your if Statements"
   ]
  },
  {
   "cell_type": "code",
   "execution_count": null,
   "id": "4541642a",
   "metadata": {},
   "outputs": [],
   "source": [
    "\"\"\"\n",
    "Recommendation PEP 8 provides for styling conditional tests is to use a \n",
    "single space around comparison operators, such as ==, >=, <=.\n",
    "\n",
    "{if age < 4:} is better than {if age<4:}\n",
    "\"\"\"\n",
    "\n"
   ]
  }
 ],
 "metadata": {
  "kernelspec": {
   "display_name": "Python 3 (ipykernel)",
   "language": "python",
   "name": "python3"
  },
  "language_info": {
   "codemirror_mode": {
    "name": "ipython",
    "version": 3
   },
   "file_extension": ".py",
   "mimetype": "text/x-python",
   "name": "python",
   "nbconvert_exporter": "python",
   "pygments_lexer": "ipython3",
   "version": "3.10.9"
  }
 },
 "nbformat": 4,
 "nbformat_minor": 5
}
