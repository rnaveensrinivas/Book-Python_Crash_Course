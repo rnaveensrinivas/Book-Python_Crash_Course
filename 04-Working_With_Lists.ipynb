{
 "cells": [
  {
   "cell_type": "markdown",
   "id": "4fb2581e",
   "metadata": {},
   "source": [
    "# Looping through an entire list"
   ]
  },
  {
   "cell_type": "code",
   "execution_count": 1,
   "id": "aa82d03f",
   "metadata": {},
   "outputs": [
    {
     "name": "stdout",
     "output_type": "stream",
     "text": [
      "alice\n",
      "david\n",
      "carolina\n"
     ]
    }
   ],
   "source": [
    "# file:- magicians.py\n",
    "magicians = [\"alice\", \"david\", \"carolina\"]\n",
    "for magician in magicians:\n",
    "    print(magician)"
   ]
  },
  {
   "cell_type": "code",
   "execution_count": 75,
   "id": "2ed7b73f",
   "metadata": {},
   "outputs": [
    {
     "name": "stdout",
     "output_type": "stream",
     "text": [
      "H\n",
      "e\n",
      "l\n",
      "l\n",
      "o\n"
     ]
    }
   ],
   "source": [
    "\"\"\"\n",
    "In Python, the for loop is used to run a block of code for a certain number of times. \n",
    "It is used to iterate over any sequences such as list, tuple, string, etc.\n",
    "\n",
    "Note:- for loop always iterates through a sequence!\n",
    "\n",
    "for val in sequences:\n",
    "    do something\n",
    "\"\"\"\n",
    "\n",
    "for char in \"Hello\":\n",
    "    print(char)"
   ]
  },
  {
   "cell_type": "code",
   "execution_count": 77,
   "id": "cb96109e",
   "metadata": {},
   "outputs": [
    {
     "name": "stdout",
     "output_type": "stream",
     "text": [
      "1\n",
      "2\n",
      "3\n",
      "4\n",
      "No items left.\n"
     ]
    }
   ],
   "source": [
    "\"\"\"\n",
    "A for loop can have an optional else block as well. \n",
    "The else part is executed when the loop is finished. For example,\n",
    "\"\"\"\n",
    "\n",
    "digits = list(range(1,5))\n",
    "for digit in digits:\n",
    "    print(digit)\n",
    "else:\n",
    "    print(\"No items left.\")"
   ]
  },
  {
   "cell_type": "code",
   "execution_count": 78,
   "id": "94b61f7c",
   "metadata": {},
   "outputs": [
    {
     "name": "stdout",
     "output_type": "stream",
     "text": [
      "1\n",
      "2\n",
      "3\n"
     ]
    }
   ],
   "source": [
    "\"\"\"\n",
    "Note: The else block will not execute if the for loop is \n",
    "stopped by a break statement.\n",
    "\"\"\"\n",
    "digits = list(range(1,5))\n",
    "for digit in digits:\n",
    "    print(digit)\n",
    "    if digit == 3:\n",
    "        break\n",
    "else:\n",
    "    print(\"No items left.\")"
   ]
  },
  {
   "cell_type": "code",
   "execution_count": 2,
   "id": "48d91e47",
   "metadata": {},
   "outputs": [
    {
     "name": "stdout",
     "output_type": "stream",
     "text": [
      "Alice, that was a great trick!\n",
      "David, that was a great trick!\n",
      "Carolina, that was a great trick!\n"
     ]
    }
   ],
   "source": [
    "magicians = [\"alice\", \"david\", \"carolina\"]\n",
    "for magician in magicians:\n",
    "    print(magician.title() + \", that was a great trick!\")"
   ]
  },
  {
   "cell_type": "code",
   "execution_count": 3,
   "id": "2b6ffa7e",
   "metadata": {},
   "outputs": [
    {
     "name": "stdout",
     "output_type": "stream",
     "text": [
      "Alice, that was a great trick!\n",
      "I can't wait to see your next trick, Alice.\n",
      "\n",
      "David, that was a great trick!\n",
      "I can't wait to see your next trick, David.\n",
      "\n",
      "Carolina, that was a great trick!\n",
      "I can't wait to see your next trick, Carolina.\n",
      "\n"
     ]
    }
   ],
   "source": [
    "magicians = [\"alice\", \"david\", \"carolina\"]\n",
    "for magician in magicians:\n",
    "    print(magician.title() + \", that was a great trick!\")\n",
    "    print(\"I can't wait to see your next trick, \" + magician.title() + \".\\n\")"
   ]
  },
  {
   "cell_type": "code",
   "execution_count": 4,
   "id": "19881efe",
   "metadata": {},
   "outputs": [
    {
     "name": "stdout",
     "output_type": "stream",
     "text": [
      "Alice, that was a great trick!\n",
      "I can't wait to see your next trick, Alice.\n",
      "\n",
      "David, that was a great trick!\n",
      "I can't wait to see your next trick, David.\n",
      "\n",
      "Carolina, that was a great trick!\n",
      "I can't wait to see your next trick, Carolina.\n",
      "\n",
      "Thank you, everyone. That was a great magic show!\n"
     ]
    }
   ],
   "source": [
    "magicians = [\"alice\", \"david\", \"carolina\"]\n",
    "for magician in magicians:\n",
    "    print(magician.title() + \", that was a great trick!\")\n",
    "    print(\"I can't wait to see your next trick, \" + magician.title() + \".\\n\")\n",
    "\n",
    "print(\"Thank you, everyone. That was a great magic show!\")"
   ]
  },
  {
   "cell_type": "markdown",
   "id": "5a6b394f",
   "metadata": {},
   "source": [
    "# Avoiding Indentation Errors"
   ]
  },
  {
   "cell_type": "markdown",
   "id": "70de7c0c",
   "metadata": {},
   "source": [
    "## Forgetting to Indent"
   ]
  },
  {
   "cell_type": "code",
   "execution_count": 5,
   "id": "ef8353f6",
   "metadata": {},
   "outputs": [
    {
     "ename": "IndentationError",
     "evalue": "expected an indented block after 'for' statement on line 3 (1521750436.py, line 4)",
     "output_type": "error",
     "traceback": [
      "\u001b[1;36m  Cell \u001b[1;32mIn[5], line 4\u001b[1;36m\u001b[0m\n\u001b[1;33m    print(magician)\u001b[0m\n\u001b[1;37m    ^\u001b[0m\n\u001b[1;31mIndentationError\u001b[0m\u001b[1;31m:\u001b[0m expected an indented block after 'for' statement on line 3\n"
     ]
    }
   ],
   "source": [
    "# file:- magicians.py\n",
    "magicians = [\"alice\", \"david\", \"carolina\"]\n",
    "for magician in magicians:\n",
    "print(magician)"
   ]
  },
  {
   "cell_type": "code",
   "execution_count": 7,
   "id": "b4f75819",
   "metadata": {},
   "outputs": [
    {
     "name": "stdout",
     "output_type": "stream",
     "text": [
      "\n"
     ]
    }
   ],
   "source": [
    "\"\"\"\n",
    "You can't have an empty \"for\" loop body.\n",
    "\"\"\"\n",
    "print()"
   ]
  },
  {
   "cell_type": "markdown",
   "id": "d19dffd3",
   "metadata": {},
   "source": [
    "## Forgetting to Indent Additional Lines"
   ]
  },
  {
   "cell_type": "code",
   "execution_count": 8,
   "id": "32a34d5c",
   "metadata": {},
   "outputs": [
    {
     "name": "stdout",
     "output_type": "stream",
     "text": [
      "Alice, that was a great trick!\n",
      "David, that was a great trick!\n",
      "Carolina, that was a great trick!\n",
      "I can't wait to see your next trick, Carolina.\n",
      "\n"
     ]
    }
   ],
   "source": [
    "magicians = [\"alice\", \"david\", \"carolina\"]\n",
    "for magician in magicians:\n",
    "    print(magician.title() + \", that was a great trick!\")\n",
    "print(\"I can't wait to see your next trick, \" + magician.title() + \".\\n\")\n",
    "\n",
    "# logical error - syntax is valid, but not the desired output."
   ]
  },
  {
   "cell_type": "code",
   "execution_count": 9,
   "id": "acb4579a",
   "metadata": {},
   "outputs": [
    {
     "name": "stdout",
     "output_type": "stream",
     "text": [
      "\n"
     ]
    }
   ],
   "source": [
    "\"\"\"\n",
    "Note:- the inner temporary varialbe \"magician\" is accessible outside.\n",
    "Take a note of these scope rules.\n",
    "\"\"\"\n",
    "print()"
   ]
  },
  {
   "cell_type": "markdown",
   "id": "745fc1f4",
   "metadata": {},
   "source": [
    "## Indent Unnecessarily"
   ]
  },
  {
   "cell_type": "code",
   "execution_count": 11,
   "id": "b4701aa8",
   "metadata": {},
   "outputs": [
    {
     "ename": "IndentationError",
     "evalue": "unexpected indent (3737705305.py, line 3)",
     "output_type": "error",
     "traceback": [
      "\u001b[1;36m  Cell \u001b[1;32mIn[11], line 3\u001b[1;36m\u001b[0m\n\u001b[1;33m    print(message)\u001b[0m\n\u001b[1;37m    ^\u001b[0m\n\u001b[1;31mIndentationError\u001b[0m\u001b[1;31m:\u001b[0m unexpected indent\n"
     ]
    }
   ],
   "source": [
    "# file:- hello_world.py\n",
    "message = \"Hello Python world!\"\n",
    "    print(message)"
   ]
  },
  {
   "cell_type": "code",
   "execution_count": 13,
   "id": "4961d701",
   "metadata": {},
   "outputs": [
    {
     "name": "stdout",
     "output_type": "stream",
     "text": [
      "\n"
     ]
    }
   ],
   "source": [
    "\"\"\"\n",
    "These indentation rules forces the programs to write clean code.\n",
    "Smart work by the language designers.\n",
    "\"\"\"\n",
    "print()"
   ]
  },
  {
   "cell_type": "markdown",
   "id": "a29a09ac",
   "metadata": {},
   "source": [
    "## Indenting Unnecessarily After the Loop"
   ]
  },
  {
   "cell_type": "code",
   "execution_count": 14,
   "id": "a55d9022",
   "metadata": {},
   "outputs": [
    {
     "name": "stdout",
     "output_type": "stream",
     "text": [
      "Alice, that was a great trick!\n",
      "I can't wait to see your next trick, Alice.\n",
      "\n",
      "Thank you everyone, that was a great magic show!\n",
      "David, that was a great trick!\n",
      "I can't wait to see your next trick, David.\n",
      "\n",
      "Thank you everyone, that was a great magic show!\n",
      "Carolina, that was a great trick!\n",
      "I can't wait to see your next trick, Carolina.\n",
      "\n",
      "Thank you everyone, that was a great magic show!\n"
     ]
    }
   ],
   "source": [
    "magicians = [\"alice\", \"david\", \"carolina\"]\n",
    "for magician in magicians:\n",
    "    print(magician.title() + \", that was a great trick!\")\n",
    "    print(\"I can't wait to see your next trick, \" + magician.title() + \".\\n\")\n",
    "    \n",
    "    print(\"Thank you everyone, that was a great magic show!\")"
   ]
  },
  {
   "cell_type": "markdown",
   "id": "dfbb2331",
   "metadata": {},
   "source": [
    "## Forgetting the colon"
   ]
  },
  {
   "cell_type": "code",
   "execution_count": 15,
   "id": "0b5e19f0",
   "metadata": {},
   "outputs": [
    {
     "ename": "SyntaxError",
     "evalue": "expected ':' (1482394412.py, line 2)",
     "output_type": "error",
     "traceback": [
      "\u001b[1;36m  Cell \u001b[1;32mIn[15], line 2\u001b[1;36m\u001b[0m\n\u001b[1;33m    for magician in magicians\u001b[0m\n\u001b[1;37m                             ^\u001b[0m\n\u001b[1;31mSyntaxError\u001b[0m\u001b[1;31m:\u001b[0m expected ':'\n"
     ]
    }
   ],
   "source": [
    "magicians = [\"alice\", \"david\", \"carolina\"]\n",
    "for magician in magicians\n",
    "    print(magician)"
   ]
  },
  {
   "cell_type": "code",
   "execution_count": 21,
   "id": "b4df25a9",
   "metadata": {},
   "outputs": [
    {
     "name": "stdout",
     "output_type": "stream",
     "text": [
      "I don't like Veg pizza.\n",
      "I don't like Maharaja pizza.\n",
      "I don't like Indian pizza.\n",
      "Pizzas are junk food.\n"
     ]
    }
   ],
   "source": [
    "\"\"\"\n",
    "4-1. Pizzas: Think of at least three kinds of your favorite pizza. Store these \n",
    "pizza names in a list, and then use a for loop to print the name of each pizza.\n",
    "•\t Modify your for loop to print a sentence using the name of the pizza \n",
    "instead of printing just the name of the pizza. For each pizza you should \n",
    "have one line of output containing a simple statement like I like pepperoni \n",
    "pizza.\n",
    "•\t Add a line at the end of your program, outside the for loop, that states \n",
    "how much you like pizza. The output should consist of three or more lines \n",
    "about the kinds of pizza you like and then an additional sentence, such as \n",
    "I really love pizza\n",
    "\"\"\"\n",
    "\n",
    "pizzas = [\"Veg\", \"Maharaja\", \"Indian\"]\n",
    "for pizza in pizzas: \n",
    "    print(\"I don't like \" + pizza + \" pizza.\")\n",
    "print(\"Pizzas are junk food.\")"
   ]
  },
  {
   "cell_type": "code",
   "execution_count": 24,
   "id": "6c582f7e",
   "metadata": {},
   "outputs": [
    {
     "name": "stdout",
     "output_type": "stream",
     "text": [
      "Tiger is a wild animal.\n",
      "Lion is a wild animal.\n",
      "Cheetah is a wild animal.\n",
      "The commonality between all these animals are that they are cats.\n"
     ]
    }
   ],
   "source": [
    "\"\"\"\n",
    "4-2. Animals: Think of at least three different animals that have a common char-\n",
    "acteristic. Store the names of these animals in a list, and then use a for loop to \n",
    "print out the name of each animal.\n",
    "•\t Modify your program to print a statement about each animal, such as \n",
    "A dog would make a great pet.\n",
    "•\t Add a line at the end of your program stating what these animals have in \n",
    "common. You could print a sentence such as Any of these animals would \n",
    "make a great pet!\n",
    "\"\"\"\n",
    "cats = [\"tiger\", \"lion\", \"cheetah\"]\n",
    "for cat in cats:\n",
    "    print(cat.title() + \" is a wild animal.\")\n",
    "print(\"The commonality between all these animals are that they are cats.\")"
   ]
  },
  {
   "cell_type": "markdown",
   "id": "f0a2502f",
   "metadata": {},
   "source": [
    "# Making Numerical Lists"
   ]
  },
  {
   "cell_type": "markdown",
   "id": "c1a021fc",
   "metadata": {},
   "source": [
    "## Using the range() Function"
   ]
  },
  {
   "cell_type": "code",
   "execution_count": 26,
   "id": "45eabefb",
   "metadata": {
    "scrolled": true
   },
   "outputs": [
    {
     "name": "stdout",
     "output_type": "stream",
     "text": [
      "1\n",
      "2\n",
      "3\n",
      "4\n"
     ]
    }
   ],
   "source": [
    "for value in range(1,5): # off by one behavior, doesn't print 5.\n",
    "    print(value)"
   ]
  },
  {
   "cell_type": "code",
   "execution_count": 81,
   "id": "159127aa",
   "metadata": {},
   "outputs": [
    {
     "name": "stdout",
     "output_type": "stream",
     "text": [
      "<class 'range'>\n",
      "\n",
      "['p', 'y', 't', 'h', 'o', 'n']\n",
      "<class 'list'>\n"
     ]
    }
   ],
   "source": [
    "\"\"\"\n",
    "The range() function returns a sequence of numbers between the give range.\n",
    "range() returns an immutable sequence of numbers that can be easily \n",
    "converted to lists, tuples, sets etc.\n",
    "\"\"\"\n",
    "print(type(range(1,5))) # range class is immutable.\n",
    "print()\n",
    "\"\"\"\n",
    "range returns object of range class, hence needs to be converted to list().\n",
    "The list() constructor returns a list in Python.\n",
    "\n",
    "Syntax:- list([iterable])\n",
    "iterable (optional) - an object that could be a sequence (string, tuples) \n",
    "or collection (set, dictionary) or any iterator object\n",
    "\n",
    "Return Value:- a list.\n",
    "If no parameters are passed, it returns an empty list\n",
    "If iterable is passed as a parameter, it creates a list consisting of iterable's items.\n",
    "\n",
    "Objects:- sequence and collection\n",
    "Sequence - strings, byte sequences, byte arrays, lists, tuples, range objects\n",
    "operations on sequence:- concatenation, replication, membership and slice\n",
    "functions on sequence:- len(), min(), max()\n",
    "\n",
    "Collection modules:- \n",
    "Sets, dictionaries\n",
    "\n",
    "\"\"\"\n",
    "text = \"python\"\n",
    "text_list = list(text)\n",
    "print(text_list)\n",
    "print(type(text_list))"
   ]
  },
  {
   "cell_type": "code",
   "execution_count": 82,
   "id": "3cb8a1a9",
   "metadata": {},
   "outputs": [
    {
     "name": "stdout",
     "output_type": "stream",
     "text": [
      "[]\n",
      "['a', 'e', 'i', 'o', 'u']\n",
      "\n",
      "['a', 'e', 'i', 'o', 'u']\n",
      "\n",
      "['a', 'e', 'i', 'o', 'u']\n",
      "\n",
      "['i', 'a', 'u', 'o', 'e']\n",
      "\n",
      "['a', 'e', 'i', 'o', 'u']\n"
     ]
    }
   ],
   "source": [
    "print(list())\n",
    "\n",
    "vowel_string = \"aeiou\"\n",
    "print(list(vowel_string))\n",
    "print()\n",
    "\n",
    "vowel_tuple = (\"a\", \"e\", \"i\", \"o\", \"u\")\n",
    "print(list(vowel_tuple))\n",
    "print()\n",
    "\n",
    "vowel_list = [\"a\", \"e\", \"i\", \"o\", \"u\"]\n",
    "print(list(vowel_list))\n",
    "print()\n",
    "\n",
    "vowel_set = {\"a\", \"e\", \"i\", \"o\", \"u\"}\n",
    "print(list(vowel_set))\n",
    "print()\n",
    "\n",
    "# Note: In the case of dictionaries, the keys of the dictionary will \n",
    "# be the items of the list. Also, the order of the elements will be random.\n",
    "vowel_dictionary = {\"a\":1, \"e\":2, \"i\":3, \"o\":4, \"u\":5}\n",
    "print(list(vowel_dictionary))"
   ]
  },
  {
   "cell_type": "code",
   "execution_count": 86,
   "id": "287f9803",
   "metadata": {},
   "outputs": [
    {
     "name": "stdout",
     "output_type": "stream",
     "text": [
      "range() with stop argument alone\n",
      "[0, 1, 2, 3]\n",
      "[]\n",
      "\n",
      "range() with start and stop arguments\n",
      "[2, 3, 4]\n",
      "[-2, -1, 0, 1, 2, 3]\n",
      "[]\n",
      "\n",
      "range() with start, stop and step arguments\n",
      "[2, 5, 8]\n",
      "[4, 3, 2, 1, 0]\n",
      "[0, 1, 2, 3, 4]\n"
     ]
    }
   ],
   "source": [
    "\"\"\"\n",
    "Syntax of range:- range(start, stop, step)\n",
    "The start and step parameters in range() are optional.\n",
    "\"\"\"\n",
    "\n",
    "print(\"range() with stop argument alone\")\n",
    "numbers = range(4)\n",
    "print(list(numbers))\n",
    "\n",
    "numbers = range(-4)\n",
    "print(list(numbers))\n",
    "print()\n",
    "\n",
    "print(\"range() with start and stop arguments\")\n",
    "numbers = range(2,5)\n",
    "print(list(numbers))\n",
    "\n",
    "numbers = range(-2,4)\n",
    "print(list(numbers))\n",
    "\n",
    "numbers = range(4,2)\n",
    "print(list(numbers))\n",
    "print()\n",
    "\n",
    "print(\"range() with start, stop and step arguments\")\n",
    "numbers = range(2,10,3)\n",
    "print(list(numbers))\n",
    "\n",
    "numbers = range(4,-1,-1)\n",
    "print(list(numbers))\n",
    "\n",
    "# The default value of start is 0, and the default value of step is 1. \n",
    "# That's why range(0, 5, 1) is equivalent to range(5).\n",
    "numbers = range(0,5,1)\n",
    "print(list(numbers))"
   ]
  },
  {
   "cell_type": "markdown",
   "id": "c2c57c24",
   "metadata": {},
   "source": [
    "## Using range() to Make a List of Numbers"
   ]
  },
  {
   "cell_type": "code",
   "execution_count": 27,
   "id": "3bdd5441",
   "metadata": {},
   "outputs": [
    {
     "name": "stdout",
     "output_type": "stream",
     "text": [
      "[1, 2, 3, 4, 5]\n"
     ]
    }
   ],
   "source": [
    "numbers = list(range(1,6))\n",
    "print(numbers)"
   ]
  },
  {
   "cell_type": "code",
   "execution_count": 28,
   "id": "d99d00c1",
   "metadata": {},
   "outputs": [
    {
     "name": "stdout",
     "output_type": "stream",
     "text": [
      "[2, 4, 6, 8, 10]\n"
     ]
    }
   ],
   "source": [
    "# file:- even_numbers.py\n",
    "even_numbers = list(range(2,11,2))\n",
    "print(even_numbers)"
   ]
  },
  {
   "cell_type": "code",
   "execution_count": 30,
   "id": "bd8842bc",
   "metadata": {},
   "outputs": [
    {
     "name": "stdout",
     "output_type": "stream",
     "text": [
      "[1, 4, 9, 16, 25, 36, 49, 64, 81, 100]\n"
     ]
    }
   ],
   "source": [
    "# file:- squares.py\n",
    "squares = []\n",
    "for value in range(1,11):\n",
    "    square = value**2\n",
    "    squares.append(square)\n",
    "    \n",
    "print(squares)"
   ]
  },
  {
   "cell_type": "code",
   "execution_count": 31,
   "id": "67353719",
   "metadata": {},
   "outputs": [
    {
     "name": "stdout",
     "output_type": "stream",
     "text": [
      "[1, 4, 9, 16, 25, 36, 49, 64, 81, 100]\n"
     ]
    }
   ],
   "source": [
    "squares = []\n",
    "for value in range(1,11):\n",
    "    squares.append(value**2)\n",
    "    \n",
    "print(squares)"
   ]
  },
  {
   "cell_type": "code",
   "execution_count": 32,
   "id": "e427e992",
   "metadata": {},
   "outputs": [
    {
     "name": "stdout",
     "output_type": "stream",
     "text": [
      "\n"
     ]
    }
   ],
   "source": [
    "\"\"\"\n",
    "Focus first on writing code that you understand clearly, \n",
    "which does what you want it to do. \n",
    "Then look for more efficient approaches as you review your code.\n",
    "\"\"\"\n",
    "print()"
   ]
  },
  {
   "cell_type": "markdown",
   "id": "00d32e09",
   "metadata": {},
   "source": [
    "## Simple Statistics with a List of Numbers"
   ]
  },
  {
   "cell_type": "code",
   "execution_count": 34,
   "id": "a9e327e7",
   "metadata": {},
   "outputs": [
    {
     "name": "stdout",
     "output_type": "stream",
     "text": [
      "0\n",
      "9\n",
      "45\n"
     ]
    }
   ],
   "source": [
    "digits = range(0,10)\n",
    "print(min(digits))\n",
    "print(max(digits))\n",
    "print(sum(digits))"
   ]
  },
  {
   "cell_type": "code",
   "execution_count": null,
   "id": "81b3a618",
   "metadata": {},
   "outputs": [],
   "source": [
    "\"\"\"\n",
    "The min() function returns the smallest item in an iterable. \n",
    "It can also be used to find the smallest item between two or more parameters.\n",
    "\n",
    "Return value:- min() returns the smallest argument among the multiple arguments passed to it.\n",
    "\n",
    "Syntax 1:- min(iterable, *iterables, key, default)\n",
    "\n",
    "iterable - an iterable such as list, tuple, set, dictionary, etc.\n",
    "*iterables (optional) - any number of iterables; can be more than one\n",
    "key (optional) - key function where the iterables are passed and comparison is performed based on its return value\n",
    "default (optional) - default value if the given iterable is empty\n",
    "\n",
    "In the case of dictionaries, min() returns the smallest key. \n",
    "Let's use the key parameter so that we can find the dictionary's key \n",
    "having the smallest value.\n",
    "\n",
    "\n",
    "Syntax 2:- min(arg1, arg2, *args, key)\n",
    "\"\"\"\n",
    "print()"
   ]
  },
  {
   "cell_type": "markdown",
   "id": "b8125924",
   "metadata": {},
   "source": [
    "## List Comprehension"
   ]
  },
  {
   "cell_type": "code",
   "execution_count": 35,
   "id": "570546f8",
   "metadata": {},
   "outputs": [
    {
     "name": "stdout",
     "output_type": "stream",
     "text": [
      "[1, 4, 9, 16, 25, 36, 49, 64, 81, 100]\n"
     ]
    }
   ],
   "source": [
    "# file:- squres.py\n",
    "squares = [value**2 for value in range(1,11)]\n",
    "print(squares)"
   ]
  },
  {
   "cell_type": "code",
   "execution_count": 87,
   "id": "c3679d51",
   "metadata": {},
   "outputs": [
    {
     "name": "stdout",
     "output_type": "stream",
     "text": [
      "['h', 'u', 'm', 'a', 'n']\n"
     ]
    }
   ],
   "source": [
    "\"\"\"\n",
    "Suppose, we want to separate the letters of the word human and add \n",
    "the letters as items of a list. \n",
    "The first thing that comes in mind would be using for loop.\n",
    "\"\"\"\n",
    "\n",
    "letters = []\n",
    "\n",
    "for letter in 'human':\n",
    "    letters.append(letter)\n",
    "    \n",
    "print(letters)"
   ]
  },
  {
   "cell_type": "code",
   "execution_count": 88,
   "id": "7bec95d7",
   "metadata": {},
   "outputs": [
    {
     "name": "stdout",
     "output_type": "stream",
     "text": [
      "['h', 'u', 'm', 'a', 'n']\n"
     ]
    }
   ],
   "source": [
    "letters = [letter for letter in 'human']\n",
    "print(letters)"
   ]
  },
  {
   "cell_type": "code",
   "execution_count": 89,
   "id": "301cd8ff",
   "metadata": {},
   "outputs": [
    {
     "name": "stdout",
     "output_type": "stream",
     "text": [
      "[0, 2, 4, 6, 8, 10, 12, 14, 16, 18]\n"
     ]
    }
   ],
   "source": [
    "\"\"\"\n",
    "Syntax:- [expression for item   in list]\n",
    "         [letter     for letter in list]\n",
    "         \n",
    "Every list comprehension can be written as a for loop.\n",
    "But not every for loop can be written as list comprehension.\n",
    "\n",
    "List comprehension is for simple expression evaluation to be performed\n",
    "on every item in list. \n",
    "This is an elegant way of writing code.\n",
    "\n",
    "\n",
    "Conditionals in list comprehension\n",
    "List comprehensions can utilize conditional statement to modify existing \n",
    "list (or other tuples).\n",
    "\"\"\"\n",
    "\n",
    "even_numbers = [ x for x in range(20) if x % 2 == 0]\n",
    "print(even_numbers)"
   ]
  },
  {
   "cell_type": "code",
   "execution_count": 93,
   "id": "27869c4f",
   "metadata": {},
   "outputs": [
    {
     "name": "stdout",
     "output_type": "stream",
     "text": [
      "[0, 10, 20, 30, 40, 50, 60, 70, 80, 90]\n",
      "[0, 10, 20, 30, 40, 50, 60, 70, 80, 90]\n"
     ]
    }
   ],
   "source": [
    "\"\"\"\n",
    "Let's see nested if with list comprehension\n",
    "\"\"\"\n",
    "\n",
    "numbers = [ y for y in range(100) if y % 2 == 0 if y % 5 == 0]\n",
    "print(numbers)\n",
    "\n",
    "numbers = [ y for y in range(100) if y % 2 == 0 and y % 5 == 0]\n",
    "print(numbers)"
   ]
  },
  {
   "cell_type": "code",
   "execution_count": 95,
   "id": "daa09956",
   "metadata": {},
   "outputs": [
    {
     "name": "stdout",
     "output_type": "stream",
     "text": [
      "['Even', 'Odd', 'Even', 'Odd', 'Even', 'Odd', 'Even', 'Odd', 'Even', 'Odd']\n"
     ]
    }
   ],
   "source": [
    "\"\"\"\n",
    "If else gets a different syntax.\n",
    "\"\"\"\n",
    "even_odd_numbers = [ \"Odd\" if number % 2 else \"Even\" for number in range(10)]\n",
    "print(even_odd_numbers)"
   ]
  },
  {
   "cell_type": "code",
   "execution_count": null,
   "id": "d7b1d7c9",
   "metadata": {},
   "outputs": [],
   "source": [
    "\"\"\"\n",
    "Key Points to Remember\n",
    "List comprehension is an elegant way to define and create lists based on existing lists.\n",
    "List comprehension is generally more compact and faster than normal functions and loops for creating list.\n",
    "However, we should avoid writing very long list comprehensions in one line to ensure that code is user-friendly.\n",
    "Remember, every list comprehension can be rewritten in for loop, but every for loop can’t be rewritten in the form of list comprehension.\n",
    "\"\"\""
   ]
  },
  {
   "cell_type": "code",
   "execution_count": 36,
   "id": "dc33913b",
   "metadata": {},
   "outputs": [
    {
     "name": "stdout",
     "output_type": "stream",
     "text": [
      "1\n",
      "2\n",
      "3\n",
      "4\n",
      "5\n",
      "6\n",
      "7\n",
      "8\n",
      "9\n",
      "10\n",
      "11\n",
      "12\n",
      "13\n",
      "14\n",
      "15\n",
      "16\n",
      "17\n",
      "18\n",
      "19\n",
      "20\n"
     ]
    }
   ],
   "source": [
    "\"\"\"\n",
    "4-3. Counting to Twenty: Use a for loop to print the numbers from 1 to 20, \n",
    "inclusive\n",
    "\"\"\"\n",
    "for number in range(1,21):\n",
    "    print(number)"
   ]
  },
  {
   "cell_type": "code",
   "execution_count": 38,
   "id": "a88a7713",
   "metadata": {},
   "outputs": [
    {
     "data": {
      "text/plain": [
       "1000000"
      ]
     },
     "execution_count": 38,
     "metadata": {},
     "output_type": "execute_result"
    }
   ],
   "source": [
    "\"\"\"\n",
    "4-4. One Million: Make a list of the numbers from one to one million, and then \n",
    "use a for loop to print the numbers. (If the output is taking too long, stop it by \n",
    "pressing ctrl-C or by closing the output window.)\n",
    "\n",
    "\"\"\"\n",
    "numbers = range(1,1_000_001)\n",
    "len(numbers)"
   ]
  },
  {
   "cell_type": "code",
   "execution_count": 39,
   "id": "e640fc5e",
   "metadata": {},
   "outputs": [
    {
     "name": "stdout",
     "output_type": "stream",
     "text": [
      "1\n",
      "1000000\n",
      "500000500000\n"
     ]
    }
   ],
   "source": [
    "\"\"\"\n",
    "4-5. Summing a Million: Make a list of the numbers from one to one million, \n",
    "and then use min() and max() to make sure your list actually starts at one and \n",
    "ends at one million. Also, use the sum() function to see how quickly Python can \n",
    "add a million numbers.\n",
    "\"\"\"\n",
    "numbers = range(1,1_000_001)\n",
    "print(min(numbers))\n",
    "print(max(numbers))\n",
    "print(sum(numbers))"
   ]
  },
  {
   "cell_type": "code",
   "execution_count": 40,
   "id": "10f1dada",
   "metadata": {},
   "outputs": [
    {
     "name": "stdout",
     "output_type": "stream",
     "text": [
      "1\n",
      "3\n",
      "5\n",
      "7\n",
      "9\n",
      "11\n",
      "13\n",
      "15\n",
      "17\n",
      "19\n"
     ]
    }
   ],
   "source": [
    "\"\"\"\n",
    "4-6. Odd Numbers: Use the third argument of the range() function to make a list \n",
    "of the odd numbers from 1 to 20. Use a for loop to print each number.\n",
    "\"\"\"\n",
    "for odd_number in range(1,20,2):\n",
    "    print(odd_number)"
   ]
  },
  {
   "cell_type": "code",
   "execution_count": 45,
   "id": "7a0fa220",
   "metadata": {},
   "outputs": [
    {
     "name": "stdout",
     "output_type": "stream",
     "text": [
      "[3, 6, 9, 12, 15, 18, 21, 24, 27, 30]\n",
      "[3, 6, 9, 12, 15, 18, 21, 24, 27, 30]\n"
     ]
    }
   ],
   "source": [
    "\"\"\"\n",
    "4-7. Threes: Make a list of the multiples of 3 from 3 to 30. Use a for loop to \n",
    "print the numbers in your list.\n",
    "\"\"\"\n",
    "\n",
    "# way 1: range() with step\n",
    "multiples_of_3 = list(range(3,31,3))\n",
    "print(multiples_of_3)\n",
    "\n",
    "# way 2: Using list comprehension\n",
    "multiples_of_3 = [number*3 for number in range(1,11)]\n",
    "print(multiples_of_3)"
   ]
  },
  {
   "cell_type": "code",
   "execution_count": 46,
   "id": "edb4ce35",
   "metadata": {},
   "outputs": [
    {
     "name": "stdout",
     "output_type": "stream",
     "text": [
      "1\n",
      "8\n",
      "27\n",
      "64\n",
      "125\n",
      "216\n",
      "343\n",
      "512\n",
      "729\n",
      "1000\n"
     ]
    }
   ],
   "source": [
    "\"\"\"\n",
    "4-8. Cubes: A number raised to the third power is called a cube. For example, \n",
    "the cube of 2 is written as 2**3 in Python. Make a list of the first 10 cubes (that \n",
    "is, the cube of each integer from 1 through 10), and use a for loop to print out \n",
    "the value of each cube.\n",
    "\n",
    "4-9. Cube Comprehension: Use a list comprehension to generate a list of the \n",
    "first 10 cubes.\n",
    "\"\"\"\n",
    "cubes = [number**3 for number in range(1,11)]\n",
    "for cube in cubes:\n",
    "    print(cube)"
   ]
  },
  {
   "cell_type": "markdown",
   "id": "07d1149e",
   "metadata": {},
   "source": [
    "# Working with Part of List"
   ]
  },
  {
   "cell_type": "code",
   "execution_count": 47,
   "id": "7679e36c",
   "metadata": {},
   "outputs": [],
   "source": [
    "# You can also work with a specific group of items in a list, called slice."
   ]
  },
  {
   "cell_type": "markdown",
   "id": "18713815",
   "metadata": {},
   "source": [
    "## Slicing a List"
   ]
  },
  {
   "cell_type": "code",
   "execution_count": 48,
   "id": "bf318117",
   "metadata": {},
   "outputs": [
    {
     "name": "stdout",
     "output_type": "stream",
     "text": [
      "['charles', 'martina', 'michael']\n"
     ]
    }
   ],
   "source": [
    "# file:- players.py\n",
    "players = [\"charles\", \"martina\", \"michael\", \"florence\", \"eli\"]\n",
    "print(players[0:3])"
   ]
  },
  {
   "cell_type": "code",
   "execution_count": 49,
   "id": "cb0cbcd7",
   "metadata": {},
   "outputs": [
    {
     "name": "stdout",
     "output_type": "stream",
     "text": [
      "['martina', 'michael', 'florence']\n"
     ]
    }
   ],
   "source": [
    "players = [\"charles\", \"martina\", \"michael\", \"florence\", \"eli\"]\n",
    "print(players[1:4])"
   ]
  },
  {
   "cell_type": "code",
   "execution_count": 50,
   "id": "196f73e3",
   "metadata": {},
   "outputs": [
    {
     "name": "stdout",
     "output_type": "stream",
     "text": [
      "['charles', 'martina', 'michael', 'florence']\n"
     ]
    }
   ],
   "source": [
    "players = [\"charles\", \"martina\", \"michael\", \"florence\", \"eli\"]\n",
    "print(players[:4]) # starts from first element"
   ]
  },
  {
   "cell_type": "code",
   "execution_count": 51,
   "id": "eb5057dc",
   "metadata": {},
   "outputs": [
    {
     "name": "stdout",
     "output_type": "stream",
     "text": [
      "['michael', 'florence', 'eli']\n"
     ]
    }
   ],
   "source": [
    "players = [\"charles\", \"martina\", \"michael\", \"florence\", \"eli\"]\n",
    "print(players[2:]) # ends with last element"
   ]
  },
  {
   "cell_type": "code",
   "execution_count": 52,
   "id": "0381d005",
   "metadata": {},
   "outputs": [
    {
     "name": "stdout",
     "output_type": "stream",
     "text": [
      "['michael', 'florence', 'eli']\n"
     ]
    }
   ],
   "source": [
    "players = [\"charles\", \"martina\", \"michael\", \"florence\", \"eli\"]\n",
    "print(players[-3:]) # Start at thrid last element"
   ]
  },
  {
   "cell_type": "code",
   "execution_count": null,
   "id": "2328a064",
   "metadata": {},
   "outputs": [],
   "source": []
  },
  {
   "cell_type": "markdown",
   "id": "6c2fc0d8",
   "metadata": {},
   "source": [
    "## Looping Through a Slice"
   ]
  },
  {
   "cell_type": "code",
   "execution_count": 54,
   "id": "beab91df",
   "metadata": {},
   "outputs": [
    {
     "name": "stdout",
     "output_type": "stream",
     "text": [
      "Here are the first three players on my team:\n",
      "Charles\n",
      "Martina\n",
      "Michael\n"
     ]
    }
   ],
   "source": [
    "players = [\"charles\", \"martina\", \"michael\", \"florence\", \"eli\"]\n",
    "\n",
    "print(\"Here are the first three players on my team:\")\n",
    "for player in players[:3]:\n",
    "    print(player.title())"
   ]
  },
  {
   "cell_type": "markdown",
   "id": "0382ccde",
   "metadata": {},
   "source": [
    "## Copying a List"
   ]
  },
  {
   "cell_type": "code",
   "execution_count": 55,
   "id": "ea30285e",
   "metadata": {},
   "outputs": [
    {
     "name": "stdout",
     "output_type": "stream",
     "text": [
      "My favorite foods are:\n",
      "['pizza', 'falafel', 'carrot cake']\n",
      "\n",
      "My friend's favorite foods are:\n",
      "['pizza', 'falafel', 'carrot cake']\n"
     ]
    }
   ],
   "source": [
    "# file:- foods.py\n",
    "my_foods = [\"pizza\", \"falafel\", \"carrot cake\"]\n",
    "friend_foods = my_foods[:] # deep copy\n",
    "\n",
    "print(\"My favorite foods are:\")\n",
    "print(my_foods)\n",
    "\n",
    "print(\"\\nMy friend's favorite foods are:\")\n",
    "print(friend_foods)"
   ]
  },
  {
   "cell_type": "code",
   "execution_count": 56,
   "id": "92b691f4",
   "metadata": {},
   "outputs": [
    {
     "name": "stdout",
     "output_type": "stream",
     "text": [
      "My favorite foods are:\n",
      "['pizza', 'falafel', 'carrot cake', 'cannoli']\n",
      "\n",
      "My friend's favorite foods are:\n",
      "['pizza', 'falafel', 'carrot cake', 'ice cream']\n"
     ]
    }
   ],
   "source": [
    "# file:- foods.py\n",
    "my_foods = [\"pizza\", \"falafel\", \"carrot cake\"]\n",
    "friend_foods = my_foods[:]\n",
    "\n",
    "my_foods.append(\"cannoli\")\n",
    "friend_foods.append(\"ice cream\")\n",
    "\n",
    "print(\"My favorite foods are:\")\n",
    "print(my_foods)\n",
    "\n",
    "print(\"\\nMy friend's favorite foods are:\")\n",
    "print(friend_foods)"
   ]
  },
  {
   "cell_type": "code",
   "execution_count": 57,
   "id": "03b84e87",
   "metadata": {},
   "outputs": [
    {
     "name": "stdout",
     "output_type": "stream",
     "text": [
      "My favorite foods are:\n",
      "['pizza', 'falafel', 'carrot cake', 'cannoli', 'ice cream']\n",
      "\n",
      "My friend's favorite foods are:\n",
      "['pizza', 'falafel', 'carrot cake', 'cannoli', 'ice cream']\n"
     ]
    }
   ],
   "source": [
    "# file:- foods.py\n",
    "my_foods = [\"pizza\", \"falafel\", \"carrot cake\"]\n",
    "friend_foods = my_foods # shallow copy\n",
    "\n",
    "my_foods.append(\"cannoli\")\n",
    "friend_foods.append(\"ice cream\")\n",
    "\n",
    "print(\"My favorite foods are:\")\n",
    "print(my_foods)\n",
    "\n",
    "print(\"\\nMy friend's favorite foods are:\")\n",
    "print(friend_foods)"
   ]
  },
  {
   "cell_type": "code",
   "execution_count": 60,
   "id": "67bd2a34",
   "metadata": {},
   "outputs": [
    {
     "name": "stdout",
     "output_type": "stream",
     "text": [
      "First three numbers are:- \n",
      "[2, 3, 4]\n",
      "\n",
      "Three items from middle are:- \n",
      "[5, 6, 7]\n",
      "\n",
      "Last three items in list are:- \n",
      "[8, 9, 10]\n"
     ]
    }
   ],
   "source": [
    "\"\"\"\n",
    "4-10. Slices: Using one of the programs you wrote in this chapter, add several \n",
    "lines to the end of the program that do the following:\n",
    "•\t Print the message, The first three items in the list are:. Then use a slice to \n",
    "print the first three items from that program’s list.\n",
    "•\t Print the message, Three items from the middle of the list are:. Use a slice \n",
    "to print three items from the middle of the list.\n",
    "•\t Print the message, The last three items in the list are:. Use a slice to print \n",
    "the last three items in the list.\n",
    "\"\"\"\n",
    "\n",
    "numbers = list(range(1,11))\n",
    "print(\"First three numbers are:- \")\n",
    "print(numbers[1:4])\n",
    "\n",
    "print(\"\\nThree items from middle are:- \")\n",
    "print(numbers[4:7])\n",
    "\n",
    "print(\"\\nLast three items in list are:- \")\n",
    "print(numbers[-3:])"
   ]
  },
  {
   "cell_type": "code",
   "execution_count": 62,
   "id": "f947d3fb",
   "metadata": {},
   "outputs": [
    {
     "name": "stdout",
     "output_type": "stream",
     "text": [
      "My pizzas are:-\n",
      "['Veg', 'Maharaja', 'Indian', 'pineapple']\n",
      "\n",
      "My friend's pizzas are:-\n",
      "['Veg', 'Maharaja', 'Indian', 'Non-veg']\n"
     ]
    }
   ],
   "source": [
    "\"\"\"\n",
    "4-11. My Pizzas, Your Pizzas: Start with your program from Exercise 4-1 \n",
    "(page 60). Make a copy of the list of pizzas, and call it friend_pizzas.\n",
    "Then, do the following:\n",
    "•\t Add a new pizza to the original list.\n",
    "•\t Add a different pizza to the list friend_pizzas.\n",
    "•\t Prove that you have two separate lists. Print the message, My favorite \n",
    "pizzas are:, and then use a for loop to print the first list. Print the message, \n",
    "My friend’s favorite pizzas are:, and then use a for loop to print the sec\u0002ond list. Make sure each new pizza is stored in the appropriate list.\n",
    "\"\"\"\n",
    "pizzas = [\"Veg\", \"Maharaja\", \"Indian\"]\n",
    "friend_pizzas = pizzas[:]\n",
    "\n",
    "pizzas.append(\"pineapple\")\n",
    "friend_pizzas.append(\"Non-veg\")\n",
    "\n",
    "print(\"My pizzas are:-\")\n",
    "print(pizzas)\n",
    "\n",
    "print(\"\\nMy friend's pizzas are:-\")\n",
    "print(friend_pizzas)"
   ]
  },
  {
   "cell_type": "code",
   "execution_count": 99,
   "id": "c39910b6",
   "metadata": {},
   "outputs": [
    {
     "name": "stdout",
     "output_type": "stream",
     "text": [
      "My favorite foods are:\n",
      "pizza\n",
      "falafel\n",
      "carrot cake\n",
      "cannoli\n",
      "ice cream\n",
      "\n",
      "My friend's favorite foods are:\n",
      "pizza\n",
      "falafel\n",
      "carrot cake\n",
      "cannoli\n",
      "ice cream\n"
     ]
    }
   ],
   "source": [
    "\"\"\"\n",
    "4-12. More Loops: All versions of foods.py in this section have avoided using \n",
    "for loops when printing to save space. Choose a version of foods.py, and \n",
    "write two for loops to print each list of foods.\n",
    "\"\"\"\n",
    "# file:- foods.py\n",
    "my_foods = [\"pizza\", \"falafel\", \"carrot cake\"]\n",
    "friend_foods = my_foods # shallow copy\n",
    "\n",
    "my_foods.append(\"cannoli\")\n",
    "friend_foods.append(\"ice cream\")\n",
    "\n",
    "print(\"My favorite foods are:\")\n",
    "for food in my_foods:\n",
    "    print(food)\n",
    "\n",
    "print(\"\\nMy friend's favorite foods are:\")\n",
    "for food in friend_foods:\n",
    "    print(food)"
   ]
  },
  {
   "cell_type": "markdown",
   "id": "77a6ddf5",
   "metadata": {},
   "source": [
    "# Tuples"
   ]
  },
  {
   "cell_type": "code",
   "execution_count": 64,
   "id": "0fec9671",
   "metadata": {},
   "outputs": [
    {
     "name": "stdout",
     "output_type": "stream",
     "text": [
      "\n"
     ]
    }
   ],
   "source": [
    "\"\"\"\n",
    "Sometimes you’ll want to create a list of items that cannot \n",
    "change. Tuples allow you to do just that. Python refers to values that cannot \n",
    "change as immutable, and an immutable list is called a tuple.\n",
    "\"\"\"\n",
    "print()"
   ]
  },
  {
   "cell_type": "markdown",
   "id": "4c8be6b6",
   "metadata": {},
   "source": [
    "## Defining a Tuple"
   ]
  },
  {
   "cell_type": "code",
   "execution_count": 66,
   "id": "c9c2fc43",
   "metadata": {},
   "outputs": [
    {
     "name": "stdout",
     "output_type": "stream",
     "text": [
      "200\n",
      "50\n"
     ]
    }
   ],
   "source": [
    "# tuple is definied using paranthesis.\n",
    "# file:- dimensions.py\n",
    "\n",
    "dimensions = (200, 50)\n",
    "print(dimensions[0])\n",
    "print(dimensions[1])"
   ]
  },
  {
   "cell_type": "code",
   "execution_count": 67,
   "id": "635d81d3",
   "metadata": {
    "scrolled": true
   },
   "outputs": [
    {
     "ename": "TypeError",
     "evalue": "'tuple' object does not support item assignment",
     "output_type": "error",
     "traceback": [
      "\u001b[1;31m---------------------------------------------------------------------------\u001b[0m",
      "\u001b[1;31mTypeError\u001b[0m                                 Traceback (most recent call last)",
      "Cell \u001b[1;32mIn[67], line 2\u001b[0m\n\u001b[0;32m      1\u001b[0m dimensions \u001b[38;5;241m=\u001b[39m (\u001b[38;5;241m200\u001b[39m, \u001b[38;5;241m50\u001b[39m)\n\u001b[1;32m----> 2\u001b[0m dimensions[\u001b[38;5;241m0\u001b[39m] \u001b[38;5;241m=\u001b[39m \u001b[38;5;241m250\u001b[39m\n",
      "\u001b[1;31mTypeError\u001b[0m: 'tuple' object does not support item assignment"
     ]
    }
   ],
   "source": [
    "dimensions = (200, 50)\n",
    "dimensions[0] = 250"
   ]
  },
  {
   "cell_type": "code",
   "execution_count": 97,
   "id": "aab45487",
   "metadata": {},
   "outputs": [
    {
     "name": "stdout",
     "output_type": "stream",
     "text": [
      "<class 'str'>\n",
      "<class 'tuple'>\n"
     ]
    }
   ],
   "source": [
    "\"\"\"\n",
    "Creating a tuple with one element is a bit tricky. \n",
    "Having one element within parentheses is not enough.\n",
    "\"\"\"\n",
    "var1 = (\"hello\")\n",
    "print(type(var1))\n",
    "var2 = (\"hello\",)\n",
    "print(type(var2))"
   ]
  },
  {
   "cell_type": "code",
   "execution_count": 102,
   "id": "ef202334",
   "metadata": {},
   "outputs": [
    {
     "name": "stdout",
     "output_type": "stream",
     "text": [
      "Count of 'p':- 2\n",
      "Index of 'l':- 3\n",
      "Index of 'p':- 1\n",
      "\n",
      "Count of 'p':- 2\n",
      "Index of 'l':- 3\n",
      "Index of 'p':- 1\n"
     ]
    }
   ],
   "source": [
    "my_tuple = (\"a\", \"p\", \"p\", \"l\", \"e\")\n",
    "print(\"Count of 'p':- \" + str(my_tuple.count('p')))\n",
    "print(\"Index of 'l':- \" + str(my_tuple.index('l')))\n",
    "print(\"Index of 'p':- \" + str(my_tuple.index('p')))\n",
    "print()\n",
    "\n",
    "# these two functions are available for list as well. \n",
    "my_list = list(my_tuple)\n",
    "print(\"Count of 'p':- \" + str(my_list.count('p')))\n",
    "print(\"Index of 'l':- \" + str(my_list.index('l')))\n",
    "print(\"Index of 'p':- \" + str(my_list.index('p')))"
   ]
  },
  {
   "cell_type": "code",
   "execution_count": 104,
   "id": "69183c62",
   "metadata": {},
   "outputs": [
    {
     "name": "stdout",
     "output_type": "stream",
     "text": [
      "False\n",
      "True\n"
     ]
    }
   ],
   "source": [
    "\"\"\"\n",
    "Checking if an item exists in tuple or list.\n",
    "\"\"\"\n",
    "\n",
    "languages = (\"python\", \"swift\", \"c++\")\n",
    "\n",
    "print(\"c\" in languages)\n",
    "print(\"python\" in languages)"
   ]
  },
  {
   "cell_type": "code",
   "execution_count": null,
   "id": "d849bc76",
   "metadata": {},
   "outputs": [],
   "source": [
    "\"\"\"\n",
    "Advantages of Tuple over List in Python\n",
    "Since tuples are quite similar to lists, both of them are used in similar situations.\n",
    "\n",
    "However, there are certain advantages of implementing a tuple over a list:\n",
    "\n",
    "We generally use tuples for heterogeneous (different) data types and lists for homogeneous (similar) data types.\n",
    "Since tuples are immutable, iterating through a tuple is faster than with a list. So there is a slight performance boost.\n",
    "Tuples that contain immutable elements can be used as a key for a dictionary. With lists, this is not possible.\n",
    "If you have data that doesn't change, implementing it as tuple will guarantee that it remains write-protected.\n",
    "\"\"\""
   ]
  },
  {
   "cell_type": "markdown",
   "id": "bf639987",
   "metadata": {},
   "source": [
    "## Looping Through all Values in a Tuple"
   ]
  },
  {
   "cell_type": "code",
   "execution_count": 68,
   "id": "94ee0c78",
   "metadata": {},
   "outputs": [
    {
     "name": "stdout",
     "output_type": "stream",
     "text": [
      "200\n",
      "50\n"
     ]
    }
   ],
   "source": [
    "dimensions = (200, 50)\n",
    "for dimension in dimensions:\n",
    "    print(dimension)"
   ]
  },
  {
   "cell_type": "markdown",
   "id": "dca1e0a7",
   "metadata": {},
   "source": [
    "## Writing over a Tuple"
   ]
  },
  {
   "cell_type": "code",
   "execution_count": 69,
   "id": "5e94af86",
   "metadata": {},
   "outputs": [
    {
     "name": "stdout",
     "output_type": "stream",
     "text": [
      "Original dimensions:\n",
      "200\n",
      "50\n",
      "\n",
      "Modified dimensions:\n",
      "400\n",
      "100\n"
     ]
    }
   ],
   "source": [
    "# can't modify a tuple, but we can assign a new value to a variable that holds a tuple.\n",
    "dimensions = (200,50)\n",
    "print(\"Original dimensions:\")\n",
    "for dimension in dimensions:\n",
    "    print(dimension)\n",
    "    \n",
    "dimensions = (400,100)\n",
    "print(\"\\nModified dimensions:\")\n",
    "for dimension in dimensions:\n",
    "    print(dimension)"
   ]
  },
  {
   "cell_type": "code",
   "execution_count": 73,
   "id": "01ea385a",
   "metadata": {},
   "outputs": [
    {
     "name": "stdout",
     "output_type": "stream",
     "text": [
      "\n",
      "Current menu:-\n",
      "idli\n",
      "dosa\n",
      "chappatti\n",
      "rava upma\n",
      "poori\n",
      "\n",
      "New menu:-\n",
      "idli\n",
      "naan\n",
      "chappatti\n",
      "rava upma\n",
      "pongal\n"
     ]
    }
   ],
   "source": [
    "\"\"\"\n",
    "4-13. Buffet: A buffet-style restaurant offers only five basic foods. Think of five \n",
    "simple foods, and store them in a tuple.\n",
    "•\t Use a for loop to print each food the restaurant offers.\n",
    "•\t Try to modify one of the items, and make sure that Python rejects the \n",
    "change.\n",
    "•\t The restaurant changes its menu, replacing two of the items with different \n",
    "foods. Add a block of code that rewrites the tuple, and then use a for\n",
    "loop to print each of the items on the revised menu.\n",
    "\"\"\"\n",
    "simple_foods = (\"idli\", \"dosa\", \"chappatti\", \"rava upma\", \"poori\")\n",
    "\n",
    "print(\"\\nCurrent menu:-\")\n",
    "for food in simple_foods:\n",
    "    print(food)\n",
    "    \n",
    "simple_foods = (\"idli\", \"naan\", \"chappatti\", \"rava upma\", \"pongal\")\n",
    "\n",
    "print(\"\\nNew menu:-\")\n",
    "for food in simple_foods:\n",
    "    print(food)"
   ]
  },
  {
   "cell_type": "code",
   "execution_count": 71,
   "id": "aca9de43",
   "metadata": {},
   "outputs": [
    {
     "ename": "TypeError",
     "evalue": "'tuple' object does not support item assignment",
     "output_type": "error",
     "traceback": [
      "\u001b[1;31m---------------------------------------------------------------------------\u001b[0m",
      "\u001b[1;31mTypeError\u001b[0m                                 Traceback (most recent call last)",
      "Cell \u001b[1;32mIn[71], line 1\u001b[0m\n\u001b[1;32m----> 1\u001b[0m simple_foods[\u001b[38;5;241m-\u001b[39m\u001b[38;5;241m1\u001b[39m] \u001b[38;5;241m=\u001b[39m \u001b[38;5;124m\"\u001b[39m\u001b[38;5;124mpongal\u001b[39m\u001b[38;5;124m\"\u001b[39m\n",
      "\u001b[1;31mTypeError\u001b[0m: 'tuple' object does not support item assignment"
     ]
    }
   ],
   "source": [
    "simple_foods[-1] = \"pongal\""
   ]
  },
  {
   "cell_type": "markdown",
   "id": "86e50784",
   "metadata": {},
   "source": [
    "# Styling Your Code"
   ]
  },
  {
   "cell_type": "code",
   "execution_count": null,
   "id": "c4c9377a",
   "metadata": {},
   "outputs": [],
   "source": [
    "\"\"\"\n",
    "Take the time to make your code as easy as possible to read.\n",
    "Python programmers have agreed on a number of styling conventions to ensure that\n",
    "everyone's code is structured roughly the same way.\n",
    "\"\"\""
   ]
  },
  {
   "cell_type": "markdown",
   "id": "9b9c6b4f",
   "metadata": {},
   "source": [
    "## The Style Guide"
   ]
  },
  {
   "cell_type": "code",
   "execution_count": null,
   "id": "143b19e3",
   "metadata": {},
   "outputs": [],
   "source": [
    "\"\"\"\n",
    "When someone wants to make a change to the Python language, they write \n",
    "a Python Enhancement Proposal (PEP).\n",
    "\n",
    "One of the oldest PEPs is PEP 8, which instructs Python programmers on \n",
    "how to style their code.\n",
    "\n",
    "The Python style guide was written with the understanding that code \n",
    "is read more often than it is written. You’ll write your code once and then \n",
    "start reading it as you begin debugging. When you add features to a pro-\n",
    "gram, you’ll spend more time reading your code. When you share your \n",
    "code with other programmers, they’ll read your code as well. \n",
    "\n",
    "Given the choice between writing code that’s easier to write or code \n",
    "that’s easier to read, Python programmers will almost always encourage you \n",
    "to write code that’s easier to read.\n",
    "\"\"\""
   ]
  },
  {
   "cell_type": "markdown",
   "id": "4382e311",
   "metadata": {},
   "source": [
    "## Indentation"
   ]
  },
  {
   "cell_type": "code",
   "execution_count": null,
   "id": "bcf1916d",
   "metadata": {},
   "outputs": [],
   "source": [
    "\"\"\"\n",
    "PEP 8 recommends that you use four spaces per indentation level.\n",
    "\n",
    "Every text editor provides a setting that lets you use the tab key but then converts \n",
    "each tab to a set number of spaces. You should definitely use your tab key, \n",
    "but also make sure your editor is set to insert spaces rather than tabs into \n",
    "your document.\n",
    "\"\"\""
   ]
  },
  {
   "cell_type": "markdown",
   "id": "b5e8be34",
   "metadata": {},
   "source": [
    "## Line Length"
   ]
  },
  {
   "cell_type": "code",
   "execution_count": null,
   "id": "5ee59cbc",
   "metadata": {},
   "outputs": [],
   "source": [
    "\"\"\"\n",
    "Many Python programmers recommend that each line should be less than \n",
    "80 characters.\n",
    "\n",
    "Historically, this guideline developed because most computers \n",
    "could fit only 79 characters on a single line in a terminal window.\n",
    "\n",
    "Professional programmers often have several files open on the same screen, \n",
    "and using the standard line length allows them to see entire lines in two or \n",
    "three files that are open side by side onscreen. \n",
    "\n",
    "PEP 8 also recommends that you limit all of your comments to 72 characters per line, \n",
    "because some of the tools that generate automatic documentation for larger projects add formatting \n",
    "characters at the beginning of each commented line.\n",
    "\"\"\"\n",
    "123456789-123456789-123456789-123456789-123456789-123456789-123456789-1234567890\n",
    "# so jupyter notebook sticks to 80 character policy."
   ]
  },
  {
   "cell_type": "markdown",
   "id": "808f95c3",
   "metadata": {},
   "source": [
    "## Blank Lines"
   ]
  },
  {
   "cell_type": "code",
   "execution_count": null,
   "id": "0d4df3a8",
   "metadata": {},
   "outputs": [],
   "source": [
    "\"\"\"\n",
    "To group parts of your program visually, use blank lines.\n",
    "\n",
    "For example, if you have five lines of code that build a list, and then another \n",
    "three lines that do something with that list, it’s appropriate to place a blank \n",
    "line between the two sections. However, you should not place three or four \n",
    "blank lines between the two sections.\n",
    "\n",
    "The Python interpreter uses horizontal indentation to interpret \n",
    "the meaning of your code, but it disregards vertical spacing.\n",
    "\"\"\""
   ]
  }
 ],
 "metadata": {
  "kernelspec": {
   "display_name": "Python 3 (ipykernel)",
   "language": "python",
   "name": "python3"
  },
  "language_info": {
   "codemirror_mode": {
    "name": "ipython",
    "version": 3
   },
   "file_extension": ".py",
   "mimetype": "text/x-python",
   "name": "python",
   "nbconvert_exporter": "python",
   "pygments_lexer": "ipython3",
   "version": "3.10.9"
  }
 },
 "nbformat": 4,
 "nbformat_minor": 5
}
