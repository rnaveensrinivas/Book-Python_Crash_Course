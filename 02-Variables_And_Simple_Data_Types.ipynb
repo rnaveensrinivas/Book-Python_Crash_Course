{
 "cells": [
  {
   "cell_type": "code",
   "execution_count": 6,
   "id": "dcaffae4",
   "metadata": {},
   "outputs": [
    {
     "name": "stdout",
     "output_type": "stream",
     "text": [
      "Comma adds a space\n",
      "Plain print adds a newline.\n",
      "\n",
      "Print returns None.\n",
      "\n"
     ]
    }
   ],
   "source": [
    "\"\"\"\n",
    "print(*objects, sep=' ', end='\\n', file=sys.stdout, flush=False)\n",
    "\n",
    "objects - object to the printed. * indicates that there may be more than one object\n",
    "sep - objects are separated by sep. Default value: ' '\n",
    "end - end is printed at last\n",
    "file - must be an object with write(string) method. If omitted, sys.stdout will be used which prints objects on the screen.\n",
    "flush - If True, the stream is forcibly flushed. Default value: False\n",
    "\n",
    "Writing to file using python:-\n",
    "sourceFile = open('python.txt', 'w')\n",
    "print('Pretty cool, huh!', file = sourceFile)\n",
    "sourceFile.close()\n",
    "\n",
    "\"\"\"\n",
    "\n",
    "print(\"Comma adds a\", \"space\")\n",
    "print(\"Plain print adds a newline.\")\n",
    "print()\n",
    "print(\"Print returns None.\")\n",
    "\n",
    "\n",
    "print()"
   ]
  },
  {
   "cell_type": "code",
   "execution_count": 7,
   "id": "89c17ee9",
   "metadata": {},
   "outputs": [
    {
     "name": "stdout",
     "output_type": "stream",
     "text": [
      "Hello Python world!\n"
     ]
    }
   ],
   "source": [
    "# file:- hello_world.py\n",
    "\n",
    "print(\"Hello Python world!\")"
   ]
  },
  {
   "cell_type": "markdown",
   "id": "0f9b6aaf",
   "metadata": {},
   "source": [
    "# Variables"
   ]
  },
  {
   "cell_type": "code",
   "execution_count": 8,
   "id": "563dcd1c",
   "metadata": {},
   "outputs": [
    {
     "name": "stdout",
     "output_type": "stream",
     "text": [
      "Hello Python world!\n"
     ]
    }
   ],
   "source": [
    "message = \"Hello Python world!\"\n",
    "print(message)"
   ]
  },
  {
   "cell_type": "code",
   "execution_count": 9,
   "id": "6009f707",
   "metadata": {},
   "outputs": [
    {
     "name": "stdout",
     "output_type": "stream",
     "text": [
      "Hello Python world!\n",
      "Hello Python Crash Course world!\n"
     ]
    }
   ],
   "source": [
    "message = \"Hello Python world!\"\n",
    "print(message)\n",
    "\n",
    "message = \"Hello Python Crash Course world!\"\n",
    "print(message)"
   ]
  },
  {
   "cell_type": "code",
   "execution_count": 13,
   "id": "9a2dc57e",
   "metadata": {},
   "outputs": [
    {
     "name": "stdout",
     "output_type": "stream",
     "text": [
      "Python keywords are...\n",
      "1 False\n",
      "2 None\n",
      "3 True\n",
      "4 and\n",
      "5 as\n",
      "6 assert\n",
      "7 async\n",
      "8 await\n",
      "9 break\n",
      "10 class\n",
      "11 continue\n",
      "12 def\n",
      "13 del\n",
      "14 elif\n",
      "15 else\n",
      "16 except\n",
      "17 finally\n",
      "18 for\n",
      "19 from\n",
      "20 global\n",
      "21 if\n",
      "22 import\n",
      "23 in\n",
      "24 is\n",
      "25 lambda\n",
      "26 nonlocal\n",
      "27 not\n",
      "28 or\n",
      "29 pass\n",
      "30 raise\n",
      "31 return\n",
      "32 try\n",
      "33 while\n",
      "34 with\n",
      "35 yield\n"
     ]
    }
   ],
   "source": [
    "\"\"\"\n",
    "Variable names can contain only letters, numbers, and underscores. \n",
    "They can start with a letter or an underscore, but not with a number. \n",
    "For instance, you can call a variable message_1 but not 1_message.\n",
    "\n",
    "Spaces are not allowed in variable names, but underscores can be used \n",
    "to separate words in variable names. For example, greeting_message works, \n",
    "but greeting message will cause errors.\n",
    "\n",
    "Avoid using Python keywords and function names as variable names; \n",
    "that is, do not use words that Python has reserved for a particular pro-\n",
    "grammatic purpose, such as the word print. \n",
    "\"\"\"\n",
    "import keyword\n",
    "\n",
    "print(\"Python keywords are...\")\n",
    "i = 1\n",
    "for keyword in keyword.kwlist:\n",
    "    print(i, keyword)\n",
    "    i += 1\n",
    "    \n",
    "\"\"\"\n",
    "Variable names should be short but descriptive. For example, name is \n",
    "better than n, student_name is better than s_n, and name_length is better \n",
    "than length_of_persons_name.\n",
    "\n",
    "Variable names should be short but descriptive. For example, name is \n",
    "better than n, student_name is better than s_n, and name_length is better \n",
    "than length_of_persons_name.\n",
    "\n",
    "The Python variables you’re using at this point should be lowercase. You won’t get \n",
    "errors if you use uppercase letters, but it’s a good idea to avoid using them for now.\n",
    "\n",
    "\"\"\""
   ]
  },
  {
   "cell_type": "code",
   "execution_count": 14,
   "id": "0456bcf5",
   "metadata": {},
   "outputs": [
    {
     "ename": "NameError",
     "evalue": "name 'mesage' is not defined",
     "output_type": "error",
     "traceback": [
      "\u001b[1;31m---------------------------------------------------------------------------\u001b[0m",
      "\u001b[1;31mNameError\u001b[0m                                 Traceback (most recent call last)",
      "Cell \u001b[1;32mIn[14], line 2\u001b[0m\n\u001b[0;32m      1\u001b[0m message \u001b[38;5;241m=\u001b[39m \u001b[38;5;124m\"\u001b[39m\u001b[38;5;124mHello Python Crash Course reader!\u001b[39m\u001b[38;5;124m\"\u001b[39m\n\u001b[1;32m----> 2\u001b[0m \u001b[38;5;28mprint\u001b[39m(\u001b[43mmesage\u001b[49m)\n",
      "\u001b[1;31mNameError\u001b[0m: name 'mesage' is not defined"
     ]
    }
   ],
   "source": [
    "message = \"Hello Python Crash Course reader!\"\n",
    "print(mesage)\n",
    "\n",
    "\"\"\"\n",
    "The below is what is called a traceback, it is provided by the interpreter when \n",
    "a program cannot run successfully.\n",
    "\n",
    "A traceback is a record of where the interpreter ran into trouble when trying\n",
    "to execute the code.\n",
    "\n",
    "\n",
    "Cell In[X], line 2\n",
    "----> 2 print(mesage) --- showing exactly where the error is.\n",
    "\n",
    "A name error usually means we either forgot to set a variable’s value before using it, \n",
    "or we made a spelling mistake when entering the variable’s name. \n",
    "\"\"\""
   ]
  },
  {
   "cell_type": "code",
   "execution_count": 15,
   "id": "d4f5dc67",
   "metadata": {},
   "outputs": [
    {
     "name": "stdout",
     "output_type": "stream",
     "text": [
      "Hi, I want to be great at Python.\n"
     ]
    }
   ],
   "source": [
    "\"\"\"\n",
    "2-1. Simple Message: Store a message in a variable, and then print that \n",
    "message.\n",
    "\"\"\"\n",
    "\n",
    "# file:- simple_message.py\n",
    "message = \"Hi, I want to be great at Python.\"\n",
    "print(message)"
   ]
  },
  {
   "cell_type": "code",
   "execution_count": 16,
   "id": "5d10e1a2",
   "metadata": {},
   "outputs": [
    {
     "name": "stdout",
     "output_type": "stream",
     "text": [
      "Hi, I want to be great at Python.\n",
      "And I want to be a great data scientist.\n"
     ]
    }
   ],
   "source": [
    "\"\"\"\n",
    "2-2. Simple Messages: Store a message in a variable, and print that message.\n",
    "Then change the value of your variable to a new message, and print the new \n",
    "message.\n",
    "\"\"\"\n",
    "\n",
    "# file:- simple_messages.py\n",
    "message = \"Hi, I want to be great at Python.\"\n",
    "print(message)\n",
    "\n",
    "message = \"And I want to be a great data scientist.\"\n",
    "print(message)"
   ]
  },
  {
   "cell_type": "markdown",
   "id": "5bbbe3d0",
   "metadata": {},
   "source": [
    "# Strings"
   ]
  },
  {
   "cell_type": "code",
   "execution_count": 17,
   "id": "b7dcb8d4",
   "metadata": {},
   "outputs": [
    {
     "data": {
      "text/plain": [
       "'This is also a string.'"
      ]
     },
     "execution_count": 17,
     "metadata": {},
     "output_type": "execute_result"
    }
   ],
   "source": [
    "# Can be in single or double quotes.\n",
    "\n",
    "\"This is a string.\" - # this is preferred, uniformity across languages.\n",
    "'This is also a string.'"
   ]
  },
  {
   "cell_type": "code",
   "execution_count": 18,
   "id": "207c4919",
   "metadata": {},
   "outputs": [
    {
     "name": "stdout",
     "output_type": "stream",
     "text": [
      "Ada Lovelace\n"
     ]
    }
   ],
   "source": [
    "# file:- name.py\n",
    "\n",
    "name = \"ada lovelace\"\n",
    "print(name.title())"
   ]
  },
  {
   "cell_type": "code",
   "execution_count": 21,
   "id": "e62d2f76",
   "metadata": {},
   "outputs": [
    {
     "name": "stdout",
     "output_type": "stream",
     "text": [
      "My Favorite Number Is 25.\n",
      "234 K3L2 *43 Fun\n",
      "He'S An Engineer, Isn'T He?\n",
      "title() capitalizes the first letter after apostrophes as well.\n"
     ]
    }
   ],
   "source": [
    "\"\"\"\n",
    "str.title()\n",
    "title() method doesn't take any parameters.\n",
    "\n",
    "title() method returns a title cased version of the string. \n",
    "Meaning, the first character of each word is capitalized \n",
    "(if the first character is a letter).\n",
    "\"\"\"\n",
    "\n",
    "text = \"My favorite number is 25.\"\n",
    "print(text.title())\n",
    "\n",
    "text = \"234 k3l2 *43 fun\"\n",
    "print(text.title())\n",
    "\n",
    "text = \"He's an engineer, isn't he?\"\n",
    "print(text.title())\n",
    "print(\"title() capitalizes the first letter after apostrophes as well.\")"
   ]
  },
  {
   "cell_type": "code",
   "execution_count": 22,
   "id": "95a247bc",
   "metadata": {},
   "outputs": [
    {
     "name": "stdout",
     "output_type": "stream",
     "text": [
      "ADA LOVELACE\n",
      "ada lovelace\n"
     ]
    }
   ],
   "source": [
    "name = \"Ada Lovelace\"\n",
    "print(name.upper())\n",
    "print(name.lower())"
   ]
  },
  {
   "cell_type": "code",
   "execution_count": 23,
   "id": "4c4aec88",
   "metadata": {},
   "outputs": [
    {
     "name": "stdout",
     "output_type": "stream",
     "text": [
      "ada lovelace\n"
     ]
    }
   ],
   "source": [
    "first_name = \"ada\"\n",
    "last_name = \"lovelace\"\n",
    "full_name = first_name + \" \" + last_name\n",
    "\n",
    "print(full_name)"
   ]
  },
  {
   "cell_type": "code",
   "execution_count": 24,
   "id": "d454c771",
   "metadata": {},
   "outputs": [
    {
     "name": "stdout",
     "output_type": "stream",
     "text": [
      "Hello, Ada Lovelace!\n"
     ]
    }
   ],
   "source": [
    "first_name = \"ada\"\n",
    "last_name = \"lovelace\"\n",
    "full_name = first_name + \" \" + last_name\n",
    "\n",
    "print(\"Hello, \" + full_name.title() + \"!\")"
   ]
  },
  {
   "cell_type": "code",
   "execution_count": 25,
   "id": "a3d2a637",
   "metadata": {},
   "outputs": [
    {
     "name": "stdout",
     "output_type": "stream",
     "text": [
      "Hello, Ada Lovelace!\n"
     ]
    }
   ],
   "source": [
    "first_name = \"ada\"\n",
    "last_name = \"lovelace\"\n",
    "full_name = first_name + \" \" + last_name\n",
    "\n",
    "message = \"Hello, \" + full_name.title() + \"!\"\n",
    "print(message)"
   ]
  },
  {
   "cell_type": "code",
   "execution_count": 27,
   "id": "9370dc75",
   "metadata": {},
   "outputs": [
    {
     "name": "stdout",
     "output_type": "stream",
     "text": [
      "Python\n",
      "\tPython\n",
      "1234567890\n"
     ]
    }
   ],
   "source": [
    "print(\"Python\")\n",
    "print(\"\\tPython\")\n",
    "print(\"1234567890\")\n",
    "# \\t length is 8 characters long."
   ]
  },
  {
   "cell_type": "code",
   "execution_count": 28,
   "id": "4b0c94e5",
   "metadata": {},
   "outputs": [
    {
     "name": "stdout",
     "output_type": "stream",
     "text": [
      "Languages:\n",
      "Python\n",
      "C\n",
      "JavaScript\n"
     ]
    }
   ],
   "source": [
    "print(\"Languages:\\nPython\\nC\\nJavaScript\")"
   ]
  },
  {
   "cell_type": "code",
   "execution_count": 29,
   "id": "ebd0842c",
   "metadata": {},
   "outputs": [
    {
     "name": "stdout",
     "output_type": "stream",
     "text": [
      "Languages:\n",
      "\tPython\n",
      "\tC\n",
      "\tJavaScript\n"
     ]
    }
   ],
   "source": [
    "print(\"Languages:\\n\\tPython\\n\\tC\\n\\tJavaScript\")"
   ]
  },
  {
   "cell_type": "code",
   "execution_count": 33,
   "id": "fe0d08a4",
   "metadata": {},
   "outputs": [
    {
     "data": {
      "text/plain": [
       "'python '"
      ]
     },
     "execution_count": 33,
     "metadata": {},
     "output_type": "execute_result"
    }
   ],
   "source": [
    "favorite_language = \"python \"\n",
    "favorite_language"
   ]
  },
  {
   "cell_type": "code",
   "execution_count": 34,
   "id": "1dfcd4dc",
   "metadata": {},
   "outputs": [
    {
     "data": {
      "text/plain": [
       "'python'"
      ]
     },
     "execution_count": 34,
     "metadata": {},
     "output_type": "execute_result"
    }
   ],
   "source": [
    "favorite_language.rstrip()"
   ]
  },
  {
   "cell_type": "code",
   "execution_count": 35,
   "id": "3d30bcd9",
   "metadata": {},
   "outputs": [
    {
     "data": {
      "text/plain": [
       "'python '"
      ]
     },
     "execution_count": 35,
     "metadata": {},
     "output_type": "execute_result"
    }
   ],
   "source": [
    "favorite_language"
   ]
  },
  {
   "cell_type": "code",
   "execution_count": 37,
   "id": "158daf23",
   "metadata": {},
   "outputs": [
    {
     "data": {
      "text/plain": [
       "' python'"
      ]
     },
     "execution_count": 37,
     "metadata": {},
     "output_type": "execute_result"
    }
   ],
   "source": [
    "favorite_language = \" python \"\n",
    "favorite_language.rstrip()"
   ]
  },
  {
   "cell_type": "code",
   "execution_count": 38,
   "id": "bc2bdb46",
   "metadata": {},
   "outputs": [
    {
     "data": {
      "text/plain": [
       "'python '"
      ]
     },
     "execution_count": 38,
     "metadata": {},
     "output_type": "execute_result"
    }
   ],
   "source": [
    "favorite_language.lstrip()"
   ]
  },
  {
   "cell_type": "code",
   "execution_count": 39,
   "id": "0c0522e1",
   "metadata": {},
   "outputs": [
    {
     "data": {
      "text/plain": [
       "'python'"
      ]
     },
     "execution_count": 39,
     "metadata": {},
     "output_type": "execute_result"
    }
   ],
   "source": [
    "favorite_language.strip()"
   ]
  },
  {
   "cell_type": "code",
   "execution_count": 40,
   "id": "0dddc792",
   "metadata": {},
   "outputs": [
    {
     "data": {
      "text/plain": [
       "'xoxo love xoxo'"
      ]
     },
     "execution_count": 40,
     "metadata": {},
     "output_type": "execute_result"
    }
   ],
   "source": [
    "\"\"\"\n",
    "The strip() method returns a copy of the string by removing both the leading \n",
    "and the trailing characters (based on the string argument passed).\n",
    "\n",
    "string.strip([chars])\n",
    "chars (optional) - a string specifying the set of characters to be \n",
    "removed from the left and right part of the string.\n",
    "\n",
    "Note: If the chars argument is not provided, \n",
    "all leading and trailing whitespaces are removed from the string.\n",
    "\n",
    "strip() returns a copy of the string with both leading and trailing \n",
    "characters stripped.\n",
    "\n",
    "When the character of the string in the left mismatches with all the \n",
    "characters in the chars argument, it stops removing the leading characters.\n",
    "Similarly, when the character of the string in the right mismatches with all \n",
    "the characters in the chars argument, it stops removing the trailing characters.\n",
    "\n",
    "\n",
    "Basically this:-\n",
    "if character not in optinal argument, stop!.\n",
    "\"\"\"\n",
    "\n",
    "string = \"  xoxo love xoxo  \"\n",
    "string.strip()"
   ]
  },
  {
   "cell_type": "code",
   "execution_count": 41,
   "id": "c6d4448d",
   "metadata": {},
   "outputs": [
    {
     "data": {
      "text/plain": [
       "'lov'"
      ]
     },
     "execution_count": 41,
     "metadata": {},
     "output_type": "execute_result"
    }
   ],
   "source": [
    "string.strip(\" xoe\")"
   ]
  },
  {
   "cell_type": "code",
   "execution_count": 42,
   "id": "387b7688",
   "metadata": {},
   "outputs": [
    {
     "data": {
      "text/plain": [
       "'  xoxo love xoxo  '"
      ]
     },
     "execution_count": 42,
     "metadata": {},
     "output_type": "execute_result"
    }
   ],
   "source": [
    "string.strip(\"stx\") # since space is not included in strip optinal."
   ]
  },
  {
   "cell_type": "code",
   "execution_count": 43,
   "id": "8e478e11",
   "metadata": {},
   "outputs": [
    {
     "name": "stdout",
     "output_type": "stream",
     "text": [
      "One of Python's strengths is its diverse community.\n"
     ]
    }
   ],
   "source": [
    "# file:- apostrophe.py\n",
    "\n",
    "message = \"One of Python's strengths is its diverse community.\"\n",
    "print(message)"
   ]
  },
  {
   "cell_type": "code",
   "execution_count": 44,
   "id": "6e9826e9",
   "metadata": {},
   "outputs": [
    {
     "ename": "SyntaxError",
     "evalue": "unterminated string literal (detected at line 1) (1265700866.py, line 1)",
     "output_type": "error",
     "traceback": [
      "\u001b[1;36m  Cell \u001b[1;32mIn[44], line 1\u001b[1;36m\u001b[0m\n\u001b[1;33m    message = 'One of Python's strengths is its diverse community.'\u001b[0m\n\u001b[1;37m                                                                  ^\u001b[0m\n\u001b[1;31mSyntaxError\u001b[0m\u001b[1;31m:\u001b[0m unterminated string literal (detected at line 1)\n"
     ]
    }
   ],
   "source": [
    "message = 'One of Python's strengths is its diverse community.'\n",
    "print(message)"
   ]
  },
  {
   "cell_type": "code",
   "execution_count": 45,
   "id": "d31c31fb",
   "metadata": {},
   "outputs": [
    {
     "ename": "SyntaxError",
     "evalue": "Missing parentheses in call to 'print'. Did you mean print(...)? (2333530330.py, line 1)",
     "output_type": "error",
     "traceback": [
      "\u001b[1;36m  Cell \u001b[1;32mIn[45], line 1\u001b[1;36m\u001b[0m\n\u001b[1;33m    print \"Hello Python 2.7 world!\"\u001b[0m\n\u001b[1;37m    ^\u001b[0m\n\u001b[1;31mSyntaxError\u001b[0m\u001b[1;31m:\u001b[0m Missing parentheses in call to 'print'. Did you mean print(...)?\n"
     ]
    }
   ],
   "source": [
    "print \"Hello Python 2.7 world!\""
   ]
  },
  {
   "cell_type": "code",
   "execution_count": 46,
   "id": "a3de222c",
   "metadata": {},
   "outputs": [
    {
     "name": "stdout",
     "output_type": "stream",
     "text": [
      "Hello Naveen Srinivas, would you like to learn some Python today?\n"
     ]
    }
   ],
   "source": [
    "\"\"\"\n",
    "2-3. Personal Message: Store a person’s name in a variable, and print a mes-\n",
    "sage to that person. Your message should be simple, such as, “Hello Eric, \n",
    "would you like to learn some Python today?”\n",
    "\"\"\"\n",
    "\n",
    "name = \"naveen srinivas\"\n",
    "print(\"Hello\", name.title() + \", would you like to learn some Python today?\")"
   ]
  },
  {
   "cell_type": "code",
   "execution_count": 47,
   "id": "b31a1877",
   "metadata": {},
   "outputs": [
    {
     "name": "stdout",
     "output_type": "stream",
     "text": [
      "Upper Case:- NAVEEN SRINIVAS\n",
      "Lower Case:- naveen srinivas\n",
      "Title Case:- Naveen Srinivas\n"
     ]
    }
   ],
   "source": [
    "\"\"\"\n",
    "2-4. Name Cases: Store a person’s name in a variable, and then print that per-\n",
    "son’s name in lowercase, uppercase, and titlecase.\n",
    "\"\"\"\n",
    "\n",
    "name = \"naveen srinivas\"\n",
    "print(\"Upper Case:-\", name.upper())\n",
    "print(\"Lower Case:-\", name.lower())\n",
    "print(\"Title Case:-\", name.title())"
   ]
  },
  {
   "cell_type": "code",
   "execution_count": 51,
   "id": "446af86b",
   "metadata": {},
   "outputs": [
    {
     "name": "stdout",
     "output_type": "stream",
     "text": [
      "Marcus Aurelius once said, \"You have power over your mind - not outside events.Realize this and you will find strength.\"\n"
     ]
    }
   ],
   "source": [
    "\"\"\"\n",
    "2-5. Famous Quote: Find a quote from a famous person you admire. Print the \n",
    "quote and the name of its author. Your output should look something like the \n",
    "following, including the quotation marks:\n",
    "Albert Einstein once said, “A person who never made a \n",
    "mistake never tried anything new.”\n",
    "\n",
    "2-6. Famous Quote 2: Repeat Exercise 2-5, but this time store the famous per-\n",
    "son’s name in a variable called famous_person. Then compose your message \n",
    "and store it in a new variable called message. Print your message.\n",
    "\n",
    "\"\"\"\n",
    "# You cannot split a statement into multiple lines in Python by pressing Enter . \n",
    "# Instead, use the backslash ( \\ ) to indicate that a statement is continued on the next line.\n",
    "\n",
    "famous_person = \"marcus aurelius\"\n",
    "famous_quote = \"You have power over your mind - not outside events.\" \\\n",
    "\"Realize this and you will find strength.\"\n",
    "print(famous_person.title(), \"once said, \\\"\" + famous_quote + \"\\\"\")"
   ]
  },
  {
   "cell_type": "code",
   "execution_count": 57,
   "id": "86c7f7e3",
   "metadata": {},
   "outputs": [
    {
     "data": {
      "text/plain": [
       "'   naveen srinivas \\n\\t'"
      ]
     },
     "execution_count": 57,
     "metadata": {},
     "output_type": "execute_result"
    }
   ],
   "source": [
    "\"\"\"\n",
    "2-7. Stripping Names: Store a person’s name, and include some whitespace \n",
    "characters at the beginning and end of the name. Make sure you use each \n",
    "character combination, \"\\t\" and \"\\n\", at least once.\n",
    "Print the name once, so the whitespace around the name is displayed.\n",
    "Then print the name using each of the three stripping functions, lstrip(), \n",
    "rstrip(), and strip().\n",
    "\"\"\"\n",
    "\n",
    "name = \"   naveen srinivas \\n\\t\"\n",
    "name"
   ]
  },
  {
   "cell_type": "code",
   "execution_count": 58,
   "id": "ad8fc63f",
   "metadata": {},
   "outputs": [
    {
     "data": {
      "text/plain": [
       "'naveen srinivas'"
      ]
     },
     "execution_count": 58,
     "metadata": {},
     "output_type": "execute_result"
    }
   ],
   "source": [
    "name.strip()"
   ]
  },
  {
   "cell_type": "code",
   "execution_count": 59,
   "id": "8805dace",
   "metadata": {},
   "outputs": [
    {
     "data": {
      "text/plain": [
       "'naveen srinivas \\n\\t'"
      ]
     },
     "execution_count": 59,
     "metadata": {},
     "output_type": "execute_result"
    }
   ],
   "source": [
    "name.lstrip()"
   ]
  },
  {
   "cell_type": "code",
   "execution_count": 60,
   "id": "360a2f75",
   "metadata": {},
   "outputs": [
    {
     "data": {
      "text/plain": [
       "'   naveen srinivas'"
      ]
     },
     "execution_count": 60,
     "metadata": {},
     "output_type": "execute_result"
    }
   ],
   "source": [
    "name.rstrip()"
   ]
  },
  {
   "cell_type": "markdown",
   "id": "dce21b82",
   "metadata": {},
   "source": [
    "# Numbers"
   ]
  },
  {
   "cell_type": "code",
   "execution_count": 61,
   "id": "c1103984",
   "metadata": {},
   "outputs": [
    {
     "data": {
      "text/plain": [
       "5"
      ]
     },
     "execution_count": 61,
     "metadata": {},
     "output_type": "execute_result"
    }
   ],
   "source": [
    "2 + 3"
   ]
  },
  {
   "cell_type": "code",
   "execution_count": 62,
   "id": "3cebb0d2",
   "metadata": {},
   "outputs": [
    {
     "data": {
      "text/plain": [
       "1"
      ]
     },
     "execution_count": 62,
     "metadata": {},
     "output_type": "execute_result"
    }
   ],
   "source": [
    "3 - 2"
   ]
  },
  {
   "cell_type": "code",
   "execution_count": 63,
   "id": "1a54dbee",
   "metadata": {},
   "outputs": [
    {
     "data": {
      "text/plain": [
       "6"
      ]
     },
     "execution_count": 63,
     "metadata": {},
     "output_type": "execute_result"
    }
   ],
   "source": [
    "2 * 3"
   ]
  },
  {
   "cell_type": "code",
   "execution_count": 64,
   "id": "839e7621",
   "metadata": {},
   "outputs": [
    {
     "data": {
      "text/plain": [
       "1.5"
      ]
     },
     "execution_count": 64,
     "metadata": {},
     "output_type": "execute_result"
    }
   ],
   "source": [
    "3 / 2 # always returns a float."
   ]
  },
  {
   "cell_type": "code",
   "execution_count": 65,
   "id": "66d39ac0",
   "metadata": {},
   "outputs": [
    {
     "data": {
      "text/plain": [
       "9"
      ]
     },
     "execution_count": 65,
     "metadata": {},
     "output_type": "execute_result"
    }
   ],
   "source": [
    "3 ** 2"
   ]
  },
  {
   "cell_type": "code",
   "execution_count": 66,
   "id": "e443b23b",
   "metadata": {},
   "outputs": [
    {
     "data": {
      "text/plain": [
       "27"
      ]
     },
     "execution_count": 66,
     "metadata": {},
     "output_type": "execute_result"
    }
   ],
   "source": [
    "3 ** 3"
   ]
  },
  {
   "cell_type": "code",
   "execution_count": 67,
   "id": "f5268f35",
   "metadata": {},
   "outputs": [
    {
     "data": {
      "text/plain": [
       "1000000"
      ]
     },
     "execution_count": 67,
     "metadata": {},
     "output_type": "execute_result"
    }
   ],
   "source": [
    "10 ** 6"
   ]
  },
  {
   "cell_type": "code",
   "execution_count": 68,
   "id": "76d4a730",
   "metadata": {},
   "outputs": [
    {
     "data": {
      "text/plain": [
       "14"
      ]
     },
     "execution_count": 68,
     "metadata": {},
     "output_type": "execute_result"
    }
   ],
   "source": [
    "2 + 3*4"
   ]
  },
  {
   "cell_type": "code",
   "execution_count": 69,
   "id": "d462c462",
   "metadata": {},
   "outputs": [
    {
     "data": {
      "text/plain": [
       "20"
      ]
     },
     "execution_count": 69,
     "metadata": {},
     "output_type": "execute_result"
    }
   ],
   "source": [
    "(2 + 3) * 4"
   ]
  },
  {
   "cell_type": "code",
   "execution_count": 70,
   "id": "d3ae5315",
   "metadata": {},
   "outputs": [
    {
     "data": {
      "text/plain": [
       "0.2"
      ]
     },
     "execution_count": 70,
     "metadata": {},
     "output_type": "execute_result"
    }
   ],
   "source": [
    "0.1 + 0.1"
   ]
  },
  {
   "cell_type": "code",
   "execution_count": 71,
   "id": "4a446805",
   "metadata": {},
   "outputs": [
    {
     "data": {
      "text/plain": [
       "0.4"
      ]
     },
     "execution_count": 71,
     "metadata": {},
     "output_type": "execute_result"
    }
   ],
   "source": [
    "0.2 + 0.2"
   ]
  },
  {
   "cell_type": "code",
   "execution_count": 72,
   "id": "904da00d",
   "metadata": {},
   "outputs": [
    {
     "data": {
      "text/plain": [
       "0.2"
      ]
     },
     "execution_count": 72,
     "metadata": {},
     "output_type": "execute_result"
    }
   ],
   "source": [
    "2 * 0.1"
   ]
  },
  {
   "cell_type": "code",
   "execution_count": 73,
   "id": "9f8d9478",
   "metadata": {},
   "outputs": [
    {
     "data": {
      "text/plain": [
       "0.4"
      ]
     },
     "execution_count": 73,
     "metadata": {},
     "output_type": "execute_result"
    }
   ],
   "source": [
    "2 * 0.2"
   ]
  },
  {
   "cell_type": "code",
   "execution_count": 74,
   "id": "b0c8ea47",
   "metadata": {},
   "outputs": [
    {
     "data": {
      "text/plain": [
       "0.30000000000000004"
      ]
     },
     "execution_count": 74,
     "metadata": {},
     "output_type": "execute_result"
    }
   ],
   "source": [
    "0.2 + 0.1"
   ]
  },
  {
   "cell_type": "code",
   "execution_count": 75,
   "id": "818a3ec3",
   "metadata": {},
   "outputs": [
    {
     "data": {
      "text/plain": [
       "0.30000000000000004"
      ]
     },
     "execution_count": 75,
     "metadata": {},
     "output_type": "execute_result"
    }
   ],
   "source": [
    "3 * 0.1"
   ]
  },
  {
   "cell_type": "code",
   "execution_count": 76,
   "id": "1650688e",
   "metadata": {},
   "outputs": [
    {
     "ename": "TypeError",
     "evalue": "can only concatenate str (not \"int\") to str",
     "output_type": "error",
     "traceback": [
      "\u001b[1;31m---------------------------------------------------------------------------\u001b[0m",
      "\u001b[1;31mTypeError\u001b[0m                                 Traceback (most recent call last)",
      "Cell \u001b[1;32mIn[76], line 2\u001b[0m\n\u001b[0;32m      1\u001b[0m age \u001b[38;5;241m=\u001b[39m \u001b[38;5;241m23\u001b[39m\n\u001b[1;32m----> 2\u001b[0m message \u001b[38;5;241m=\u001b[39m \u001b[38;5;124;43m\"\u001b[39;49m\u001b[38;5;124;43mHappy \u001b[39;49m\u001b[38;5;124;43m\"\u001b[39;49m\u001b[43m \u001b[49m\u001b[38;5;241;43m+\u001b[39;49m\u001b[43m \u001b[49m\u001b[43mage\u001b[49m \u001b[38;5;241m+\u001b[39m \u001b[38;5;124m\"\u001b[39m\u001b[38;5;124mrd Brithday!\u001b[39m\u001b[38;5;124m\"\u001b[39m\n\u001b[0;32m      4\u001b[0m \u001b[38;5;28mprint\u001b[39m(message)\n",
      "\u001b[1;31mTypeError\u001b[0m: can only concatenate str (not \"int\") to str"
     ]
    }
   ],
   "source": [
    "# file:- birthday.py\n",
    "\n",
    "\"\"\"\n",
    "This is a type error. It means Python can’t recognize the kind of informa-\n",
    "tion you’re using. In this example Python sees at u that you’re using a vari-\n",
    "able that has an integer value (int), but it’s not sure how to interpret that \n",
    "value.\n",
    "\"\"\"\n",
    "\n",
    "age = 23\n",
    "message = \"Happy \" + age + \"rd Brithday!\"\n",
    "\n",
    "print(message)"
   ]
  },
  {
   "cell_type": "code",
   "execution_count": 78,
   "id": "a418211e",
   "metadata": {},
   "outputs": [
    {
     "name": "stdout",
     "output_type": "stream",
     "text": [
      "Happy 23rd Brithday!\n"
     ]
    }
   ],
   "source": [
    "\"\"\"\n",
    "The str() method returns the string representation of a given object.\n",
    "\n",
    "str(object, encoding='utf-8', errors='strict')\n",
    "Here, encoding and errors parameters are only meant to be used when \n",
    "the object type is bytes or bytearray.\n",
    "\n",
    "\n",
    "The str() method takes three parameters:\n",
    "\n",
    "object - whose string representation is to be returned\n",
    "encoding - that the given byte object needs to be decoded to (can be UTF-8, ASCII, etc)\n",
    "errors - a response when decoding fails (can be strict, ignore, replace, etc)\n",
    "\n",
    "\"\"\"\n",
    "age = 23\n",
    "message = \"Happy \" + str(age) + \"rd Brithday!\"\n",
    "\n",
    "print(message)"
   ]
  },
  {
   "cell_type": "code",
   "execution_count": 79,
   "id": "942ed659",
   "metadata": {},
   "outputs": [
    {
     "name": "stdout",
     "output_type": "stream",
     "text": [
      "8\n",
      "8\n",
      "8\n",
      "8.0\n"
     ]
    }
   ],
   "source": [
    "\"\"\"\n",
    "2-8. Number Eight: Write addition, subtraction, multiplication, and division \n",
    "operations that each result in the number 8. Be sure to enclose your operations \n",
    "in print statements to see the results. You should create four lines that look \n",
    "like this:\n",
    "print(5 + 3)\n",
    "Your output should simply be four lines with the number 8 appearing once \n",
    "on each line.\n",
    "\"\"\"\n",
    "\n",
    "print(4 + 4)\n",
    "print(8 - 0)\n",
    "print(4 * 2)\n",
    "print(8 / 1)"
   ]
  },
  {
   "cell_type": "code",
   "execution_count": 82,
   "id": "fc6cae13",
   "metadata": {},
   "outputs": [
    {
     "name": "stdout",
     "output_type": "stream",
     "text": [
      "('My favorite number is', '3.')\n",
      "My favorite number is 3.\n"
     ]
    }
   ],
   "source": [
    "\"\"\"\n",
    "2-9. Favorite Number: Store your favorite number in a variable. Then, using \n",
    "that variable, create a message that reveals your favorite number. Print that \n",
    "message.\n",
    "\"\"\"\n",
    "\n",
    "favorite_number = 3\n",
    "message = \"My favorite number is\", str(3) + \".\"\n",
    "print(message)\n",
    "\n",
    "message = \"My favorite number is \" + str(3) + \".\"\n",
    "print(message)"
   ]
  },
  {
   "cell_type": "code",
   "execution_count": 83,
   "id": "7459892d",
   "metadata": {},
   "outputs": [
    {
     "name": "stdout",
     "output_type": "stream",
     "text": [
      "Hello Python people!\n"
     ]
    }
   ],
   "source": [
    "# file:- comment.py\n",
    "\n",
    "# Say hello to everyone.\n",
    "print(\"Hello Python people!\")"
   ]
  },
  {
   "cell_type": "code",
   "execution_count": 85,
   "id": "2311d6d1",
   "metadata": {},
   "outputs": [
    {
     "name": "stdout",
     "output_type": "stream",
     "text": [
      "\n"
     ]
    }
   ],
   "source": [
    "\"\"\"\n",
    "2-10. Adding Comments: Choose two of the programs you’ve written, and \n",
    "add at least one comment to each. If you don’t have anything specific to write \n",
    "because your programs are too simple at this point, just add your name and \n",
    "the current date at the top of each program file. Then write one sentence \n",
    "describing what the program does.\n",
    "\"\"\"\n",
    "print()"
   ]
  },
  {
   "cell_type": "markdown",
   "id": "dc1ef4de",
   "metadata": {},
   "source": [
    "# The Zen of Python"
   ]
  },
  {
   "cell_type": "code",
   "execution_count": 86,
   "id": "133e9218",
   "metadata": {},
   "outputs": [
    {
     "name": "stdout",
     "output_type": "stream",
     "text": [
      "\n"
     ]
    }
   ],
   "source": [
    "\"\"\"\n",
    "\n",
    "You could spend the rest of your life learning all the intricacies of \n",
    "Python and of programming in general, but then you’d never complete any \n",
    "projects. Don’t try to write perfect code; write code that works, and then \n",
    "decide whether to improve your code for that project or move on to some-\n",
    "thing new.\n",
    "\n",
    "\"\"\"\n",
    "print()"
   ]
  },
  {
   "cell_type": "code",
   "execution_count": 94,
   "id": "7cd91cdc",
   "metadata": {},
   "outputs": [
    {
     "name": "stdout",
     "output_type": "stream",
     "text": [
      "<module 'this' from 'C:\\\\Users\\\\sri\\\\anaconda3\\\\lib\\\\this.py'>\n"
     ]
    }
   ],
   "source": [
    "\"\"\"\n",
    "2-11. Zen of Python: Enter import this into a Python terminal session and skim \n",
    "through the additional principles.\n",
    "\"\"\"\n",
    "import this"
   ]
  },
  {
   "cell_type": "code",
   "execution_count": 95,
   "id": "3be97f97",
   "metadata": {},
   "outputs": [
    {
     "data": {
      "text/plain": [
       "97"
      ]
     },
     "execution_count": 95,
     "metadata": {},
     "output_type": "execute_result"
    }
   ],
   "source": [
    "this.c"
   ]
  },
  {
   "cell_type": "code",
   "execution_count": 96,
   "id": "cb3bf3db",
   "metadata": {},
   "outputs": [
    {
     "data": {
      "text/plain": [
       "\"Gur Mra bs Clguba, ol Gvz Crgref\\n\\nOrnhgvshy vf orggre guna htyl.\\nRkcyvpvg vf orggre guna vzcyvpvg.\\nFvzcyr vf orggre guna pbzcyrk.\\nPbzcyrk vf orggre guna pbzcyvpngrq.\\nSyng vf orggre guna arfgrq.\\nFcnefr vf orggre guna qrafr.\\nErnqnovyvgl pbhagf.\\nFcrpvny pnfrf nera'g fcrpvny rabhtu gb oernx gur ehyrf.\\nNygubhtu cenpgvpnyvgl orngf chevgl.\\nReebef fubhyq arire cnff fvyragyl.\\nHayrff rkcyvpvgyl fvyraprq.\\nVa gur snpr bs nzovthvgl, ershfr gur grzcgngvba gb thrff.\\nGurer fubhyq or bar-- naq cersrenoyl bayl bar --boivbhf jnl gb qb vg.\\nNygubhtu gung jnl znl abg or boivbhf ng svefg hayrff lbh'er Qhgpu.\\nAbj vf orggre guna arire.\\nNygubhtu arire vf bsgra orggre guna *evtug* abj.\\nVs gur vzcyrzragngvba vf uneq gb rkcynva, vg'f n onq vqrn.\\nVs gur vzcyrzragngvba vf rnfl gb rkcynva, vg znl or n tbbq vqrn.\\nAnzrfcnprf ner bar ubaxvat terng vqrn -- yrg'f qb zber bs gubfr!\""
      ]
     },
     "execution_count": 96,
     "metadata": {},
     "output_type": "execute_result"
    }
   ],
   "source": [
    "this.s # rot13 encoded"
   ]
  },
  {
   "cell_type": "code",
   "execution_count": 97,
   "id": "e3e01e49",
   "metadata": {},
   "outputs": [
    {
     "data": {
      "text/plain": [
       "25"
      ]
     },
     "execution_count": 97,
     "metadata": {},
     "output_type": "execute_result"
    }
   ],
   "source": [
    "this.i"
   ]
  },
  {
   "cell_type": "code",
   "execution_count": 98,
   "id": "ce2705d7",
   "metadata": {},
   "outputs": [
    {
     "data": {
      "text/plain": [
       "{'A': 'N',\n",
       " 'B': 'O',\n",
       " 'C': 'P',\n",
       " 'D': 'Q',\n",
       " 'E': 'R',\n",
       " 'F': 'S',\n",
       " 'G': 'T',\n",
       " 'H': 'U',\n",
       " 'I': 'V',\n",
       " 'J': 'W',\n",
       " 'K': 'X',\n",
       " 'L': 'Y',\n",
       " 'M': 'Z',\n",
       " 'N': 'A',\n",
       " 'O': 'B',\n",
       " 'P': 'C',\n",
       " 'Q': 'D',\n",
       " 'R': 'E',\n",
       " 'S': 'F',\n",
       " 'T': 'G',\n",
       " 'U': 'H',\n",
       " 'V': 'I',\n",
       " 'W': 'J',\n",
       " 'X': 'K',\n",
       " 'Y': 'L',\n",
       " 'Z': 'M',\n",
       " 'a': 'n',\n",
       " 'b': 'o',\n",
       " 'c': 'p',\n",
       " 'd': 'q',\n",
       " 'e': 'r',\n",
       " 'f': 's',\n",
       " 'g': 't',\n",
       " 'h': 'u',\n",
       " 'i': 'v',\n",
       " 'j': 'w',\n",
       " 'k': 'x',\n",
       " 'l': 'y',\n",
       " 'm': 'z',\n",
       " 'n': 'a',\n",
       " 'o': 'b',\n",
       " 'p': 'c',\n",
       " 'q': 'd',\n",
       " 'r': 'e',\n",
       " 's': 'f',\n",
       " 't': 'g',\n",
       " 'u': 'h',\n",
       " 'v': 'i',\n",
       " 'w': 'j',\n",
       " 'x': 'k',\n",
       " 'y': 'l',\n",
       " 'z': 'm'}"
      ]
     },
     "execution_count": 98,
     "metadata": {},
     "output_type": "execute_result"
    }
   ],
   "source": [
    "this.d # rot13 key"
   ]
  },
  {
   "cell_type": "code",
   "execution_count": null,
   "id": "237b57e6",
   "metadata": {},
   "outputs": [],
   "source": []
  }
 ],
 "metadata": {
  "kernelspec": {
   "display_name": "Python 3 (ipykernel)",
   "language": "python",
   "name": "python3"
  },
  "language_info": {
   "codemirror_mode": {
    "name": "ipython",
    "version": 3
   },
   "file_extension": ".py",
   "mimetype": "text/x-python",
   "name": "python",
   "nbconvert_exporter": "python",
   "pygments_lexer": "ipython3",
   "version": "3.10.9"
  }
 },
 "nbformat": 4,
 "nbformat_minor": 5
}
