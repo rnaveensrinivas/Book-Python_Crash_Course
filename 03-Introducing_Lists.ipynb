{
 "cells": [
  {
   "cell_type": "markdown",
   "id": "33ad3e38",
   "metadata": {},
   "source": [
    "# What is a list?"
   ]
  },
  {
   "cell_type": "code",
   "execution_count": 92,
   "id": "c5cfe24a",
   "metadata": {},
   "outputs": [
    {
     "name": "stdout",
     "output_type": "stream",
     "text": [
      "['trek', 'cannondale', 'redline', 'specialized']\n",
      "['trek', 'cannondale', 'redline', 'specialized']\n"
     ]
    }
   ],
   "source": [
    "# file:- bicycles.py\n",
    "# always name list as plurals.\n",
    "\n",
    "bicycles = ['trek', 'cannondale', 'redline', 'specialized']\n",
    "print(bicycles)\n",
    "print(str(bicycles))"
   ]
  },
  {
   "cell_type": "code",
   "execution_count": 2,
   "id": "6ea72246",
   "metadata": {},
   "outputs": [
    {
     "name": "stdout",
     "output_type": "stream",
     "text": [
      "trek\n"
     ]
    }
   ],
   "source": [
    "bicycles = ['trek', 'cannondale', 'redline', 'specialized']\n",
    "print(bicycles[0])"
   ]
  },
  {
   "cell_type": "code",
   "execution_count": 4,
   "id": "ee5f9aca",
   "metadata": {},
   "outputs": [
    {
     "name": "stdout",
     "output_type": "stream",
     "text": [
      "Trek\n"
     ]
    }
   ],
   "source": [
    "bicycles = ['trek', 'cannondale', 'redline', 'specialized']\n",
    "print(bicycles[0].title())"
   ]
  },
  {
   "cell_type": "code",
   "execution_count": 5,
   "id": "b73907f9",
   "metadata": {},
   "outputs": [
    {
     "name": "stdout",
     "output_type": "stream",
     "text": [
      "cannondale\n",
      "specialized\n"
     ]
    }
   ],
   "source": [
    "bicycles = ['trek', 'cannondale', 'redline', 'specialized']\n",
    "print(bicycles[1])\n",
    "print(bicycles[3])"
   ]
  },
  {
   "cell_type": "code",
   "execution_count": 6,
   "id": "4dbeafa8",
   "metadata": {},
   "outputs": [
    {
     "name": "stdout",
     "output_type": "stream",
     "text": [
      "specialized\n"
     ]
    }
   ],
   "source": [
    "bicycles = ['trek', 'cannondale', 'redline', 'specialized']\n",
    "print(bicycles[-1])"
   ]
  },
  {
   "cell_type": "code",
   "execution_count": 8,
   "id": "7a80fec8",
   "metadata": {},
   "outputs": [
    {
     "name": "stdout",
     "output_type": "stream",
     "text": [
      "My first bicycle was a Trek.\n"
     ]
    }
   ],
   "source": [
    "bicycles = ['trek', 'cannondale', 'redline', 'specialized']\n",
    "message = \"My first bicycle was a \" + bicycles[0].title() + \".\"\n",
    "print(message)"
   ]
  },
  {
   "cell_type": "code",
   "execution_count": 12,
   "id": "dbb68957",
   "metadata": {},
   "outputs": [
    {
     "name": "stdout",
     "output_type": "stream",
     "text": [
      "Naveen\n",
      "Ishwarya\n",
      "Nehal\n"
     ]
    }
   ],
   "source": [
    "\"\"\"\n",
    "3-1. Names: Store the names of a few of your friends in a list called names. Print \n",
    "each person’s name by accessing each element in the list, one at a time.\n",
    "\"\"\"\n",
    "\n",
    "names = [\"Naveen\", \"Rithvik\", \"Sanjay\", \"Nehal\", \"Ajay\", \"Ishwarya\"]\n",
    "print(names[0].title())\n",
    "print(names[-1].title())\n",
    "print(names[-3].title())"
   ]
  },
  {
   "cell_type": "code",
   "execution_count": 13,
   "id": "de38d17d",
   "metadata": {},
   "outputs": [
    {
     "name": "stdout",
     "output_type": "stream",
     "text": [
      "Hi Naveen, How are you doing today?\n",
      "Hi Ishwarya, How are you doing today?\n",
      "Hi Nehal, How are you doing today?\n"
     ]
    }
   ],
   "source": [
    "\"\"\"\n",
    "3-2. Greetings: Start with the list you used in Exercise 3-1, but instead of just \n",
    "printing each person’s name, print a message to them. The text of each mes-\n",
    "sage should be the same, but each message should be personalized with the \n",
    "person’s name.\n",
    "\"\"\"\n",
    "\n",
    "message = \"Hi \" + names[0].title() + \", How are you doing today?\"\n",
    "print(message)\n",
    "\n",
    "message = \"Hi \" + names[-1].title() + \", How are you doing today?\"\n",
    "print(message)\n",
    "\n",
    "message = \"Hi \" + names[-3].title() + \", How are you doing today?\"\n",
    "print(message)"
   ]
  },
  {
   "cell_type": "code",
   "execution_count": 18,
   "id": "86d04248",
   "metadata": {},
   "outputs": [
    {
     "name": "stdout",
     "output_type": "stream",
     "text": [
      "I currently own a Honda motorcyle.\n",
      "My brother owns a Hercules cycle.\n",
      "My dream car is Toyota Innova.\n"
     ]
    }
   ],
   "source": [
    "\"\"\"\n",
    "3-3. Your Own List: Think of your favorite mode of transportation, such as a \n",
    "motorcycle or a car, and make a list that stores several examples. Use your list \n",
    "to print a series of statements about these items, such as “I would like to own a \n",
    "Honda motorcycle.”\n",
    "\"\"\"\n",
    "\n",
    "transportations = ['motorcyle', 'cycle', 'car']\n",
    "\n",
    "message = \"I currently own a Honda \" + transportations[0] + \".\"\n",
    "print(message)\n",
    "\n",
    "message = \"My brother owns a Hercules \" + transportations[-2]+ \".\"\n",
    "print(message)\n",
    "\n",
    "message = \"My dream \" + transportations[-1] + \" is Toyota Innova.\"\n",
    "print(message)"
   ]
  },
  {
   "cell_type": "markdown",
   "id": "6d67015a",
   "metadata": {},
   "source": [
    "# Chaning, Adding, and Removing Elements"
   ]
  },
  {
   "cell_type": "code",
   "execution_count": 19,
   "id": "152cdf5d",
   "metadata": {},
   "outputs": [
    {
     "name": "stdout",
     "output_type": "stream",
     "text": [
      "['honda', 'yamaha', 'suzuki']\n",
      "['ducati', 'yamaha', 'suzuki']\n"
     ]
    }
   ],
   "source": [
    "# file:- motorcycles.py\n",
    "\n",
    "motorcycles = ['honda', 'yamaha', 'suzuki']\n",
    "print(motorcycles)\n",
    "\n",
    "motorcycles[0] = 'ducati'\n",
    "print(motorcycles)"
   ]
  },
  {
   "cell_type": "code",
   "execution_count": 20,
   "id": "97646419",
   "metadata": {},
   "outputs": [
    {
     "name": "stdout",
     "output_type": "stream",
     "text": [
      "['honda', 'yamaha', 'suzuki']\n",
      "['honda', 'yamaha', 'suzuki', 'ducati']\n"
     ]
    }
   ],
   "source": [
    "motorcycles = ['honda', 'yamaha', 'suzuki']\n",
    "print(motorcycles)\n",
    "\n",
    "motorcycles.append('ducati')\n",
    "print(motorcycles)"
   ]
  },
  {
   "cell_type": "code",
   "execution_count": null,
   "id": "34f8b49e",
   "metadata": {},
   "outputs": [],
   "source": [
    "\"\"\"\n",
    "list.append(item)\n",
    "item - an item (number, string, list etc.) to be added at the end of the list\n",
    "The method doesn't return any value (returns None).\n",
    "\"\"\""
   ]
  },
  {
   "cell_type": "code",
   "execution_count": 93,
   "id": "d9f5bee9",
   "metadata": {},
   "outputs": [
    {
     "name": "stdout",
     "output_type": "stream",
     "text": [
      "['a', 'b', 'c', ['e', 'f', 'g']]\n"
     ]
    }
   ],
   "source": [
    "list1 = ['a','b','c']\n",
    "list2 = ['e','f','g']\n",
    "list1.append(list2)\n",
    "print(list1)"
   ]
  },
  {
   "cell_type": "code",
   "execution_count": 96,
   "id": "33a3b9fa",
   "metadata": {},
   "outputs": [
    {
     "name": "stdout",
     "output_type": "stream",
     "text": [
      "['a', 'b', 'c', 'e', 'f', 'g']\n"
     ]
    }
   ],
   "source": [
    "list1 = ['a','b','c']\n",
    "list2 = ['e','f','g']\n",
    "list1 = list1 + list2\n",
    "print(list1)"
   ]
  },
  {
   "cell_type": "code",
   "execution_count": 22,
   "id": "db1ce188",
   "metadata": {},
   "outputs": [
    {
     "name": "stdout",
     "output_type": "stream",
     "text": [
      "['honda', 'yamaha', 'suzuki']\n"
     ]
    }
   ],
   "source": [
    "motorcycles = []\n",
    "\n",
    "motorcycles.append(\"honda\")\n",
    "motorcycles.append(\"yamaha\")\n",
    "motorcycles.append(\"suzuki\")\n",
    "\n",
    "print(motorcycles)"
   ]
  },
  {
   "cell_type": "code",
   "execution_count": 23,
   "id": "5c147c3c",
   "metadata": {},
   "outputs": [
    {
     "name": "stdout",
     "output_type": "stream",
     "text": [
      "['ducati', 'honda', 'yamaha', 'suzuki']\n"
     ]
    }
   ],
   "source": [
    "motorcycles = [\"honda\", \"yamaha\", \"suzuki\"]\n",
    "\n",
    "motorcycles.insert(0, \"ducati\")\n",
    "print(motorcycles)"
   ]
  },
  {
   "cell_type": "code",
   "execution_count": null,
   "id": "27d5112e",
   "metadata": {},
   "outputs": [],
   "source": [
    "\"\"\"\n",
    "list.insert(i, elem)\n",
    "index - the index where the element needs to be inserted\n",
    "element - this is the element to be inserted in the list\n",
    "\n",
    "The insert() method doesn't return anything; returns None. \n",
    "It only updates the current list.\n",
    "\n",
    "\"\"\""
   ]
  },
  {
   "cell_type": "code",
   "execution_count": 99,
   "id": "1fe8e59c",
   "metadata": {},
   "outputs": [
    {
     "name": "stdout",
     "output_type": "stream",
     "text": [
      "['honda', 'yamaha', 'ducati', 'suzuki']\n"
     ]
    }
   ],
   "source": [
    "motorcycles = [\"honda\", \"yamaha\", \"suzuki\"]\n",
    "\n",
    "motorcycles.insert(-1, \"ducati\")\n",
    "print(motorcycles)"
   ]
  },
  {
   "cell_type": "code",
   "execution_count": 98,
   "id": "0abc2849",
   "metadata": {},
   "outputs": [
    {
     "ename": "TypeError",
     "evalue": "insert expected 2 arguments, got 1",
     "output_type": "error",
     "traceback": [
      "\u001b[1;31m---------------------------------------------------------------------------\u001b[0m",
      "\u001b[1;31mTypeError\u001b[0m                                 Traceback (most recent call last)",
      "Cell \u001b[1;32mIn[98], line 3\u001b[0m\n\u001b[0;32m      1\u001b[0m motorcycles \u001b[38;5;241m=\u001b[39m [\u001b[38;5;124m\"\u001b[39m\u001b[38;5;124mhonda\u001b[39m\u001b[38;5;124m\"\u001b[39m, \u001b[38;5;124m\"\u001b[39m\u001b[38;5;124myamaha\u001b[39m\u001b[38;5;124m\"\u001b[39m, \u001b[38;5;124m\"\u001b[39m\u001b[38;5;124msuzuki\u001b[39m\u001b[38;5;124m\"\u001b[39m]\n\u001b[1;32m----> 3\u001b[0m \u001b[43mmotorcycles\u001b[49m\u001b[38;5;241;43m.\u001b[39;49m\u001b[43minsert\u001b[49m\u001b[43m(\u001b[49m\u001b[38;5;124;43m\"\u001b[39;49m\u001b[38;5;124;43mducati\u001b[39;49m\u001b[38;5;124;43m\"\u001b[39;49m\u001b[43m)\u001b[49m\n\u001b[0;32m      4\u001b[0m \u001b[38;5;28mprint\u001b[39m(motorcycles)\n",
      "\u001b[1;31mTypeError\u001b[0m: insert expected 2 arguments, got 1"
     ]
    }
   ],
   "source": [
    "motorcycles = [\"honda\", \"yamaha\", \"suzuki\"]\n",
    "\n",
    "motorcycles.insert(\"ducati\")\n",
    "print(motorcycles)"
   ]
  },
  {
   "cell_type": "code",
   "execution_count": 24,
   "id": "a4f7ef2a",
   "metadata": {},
   "outputs": [
    {
     "name": "stdout",
     "output_type": "stream",
     "text": [
      "['honda', 'yamaha', 'suzuki']\n",
      "['yamaha', 'suzuki']\n"
     ]
    }
   ],
   "source": [
    "motorcycles = ['honda', 'yamaha', 'suzuki']\n",
    "print(motorcycles)\n",
    "\n",
    "del motorcycles[0]\n",
    "print(motorcycles)"
   ]
  },
  {
   "cell_type": "code",
   "execution_count": 25,
   "id": "7a7ca304",
   "metadata": {},
   "outputs": [
    {
     "name": "stdout",
     "output_type": "stream",
     "text": [
      "['honda', 'yamaha', 'suzuki']\n",
      "['honda', 'suzuki']\n"
     ]
    }
   ],
   "source": [
    "motorcycles = ['honda', 'yamaha', 'suzuki']\n",
    "print(motorcycles)\n",
    "\n",
    "del motorcycles[1] # this is a statement.\n",
    "print(motorcycles)"
   ]
  },
  {
   "cell_type": "code",
   "execution_count": 100,
   "id": "88328e1f",
   "metadata": {},
   "outputs": [],
   "source": [
    "\"\"\"\n",
    "The Python del keyword is used to delete objects. Its syntax is:\n",
    "del obj_name\n",
    "\"\"\"\n",
    "# deleting different kinds of objects. \n",
    "my_var = 5\n",
    "my_tuple = ('Sam', 25)\n",
    "my_dict = {'name': 'Sam', 'age': 25}\n",
    "\n",
    "del my_var\n",
    "del my_tuple\n",
    "del my_dict"
   ]
  },
  {
   "cell_type": "code",
   "execution_count": 102,
   "id": "29bb684d",
   "metadata": {},
   "outputs": [
    {
     "name": "stdout",
     "output_type": "stream",
     "text": [
      "[1, 2, 4, 5, 6, 7, 8, 9]\n",
      "[1, 6, 7, 8, 9]\n",
      "[]\n"
     ]
    }
   ],
   "source": [
    "# deleting list and list elements. \n",
    "my_list = [1,2,3,4,5,6,7,8,9]\n",
    "\n",
    "del my_list[2]\n",
    "print(my_list)\n",
    "\n",
    "del my_list[1:4]\n",
    "print(my_list)\n",
    "\n",
    "del my_list[:]\n",
    "print(my_list)"
   ]
  },
  {
   "cell_type": "code",
   "execution_count": 103,
   "id": "911803d2",
   "metadata": {},
   "outputs": [
    {
     "name": "stdout",
     "output_type": "stream",
     "text": [
      "{'name': 'Sam', 'age': 25, 'profession': 'Programmer'}\n",
      "{'name': 'Sam', 'age': 25}\n"
     ]
    }
   ],
   "source": [
    "# deleting key:value pair from a dictionary\n",
    "person = {\n",
    "    'name': 'Sam',\n",
    "    'age': 25,\n",
    "    'profession': 'Programmer'\n",
    "}\n",
    "\n",
    "print(person)\n",
    "del person['profession']\n",
    "print(person)"
   ]
  },
  {
   "cell_type": "code",
   "execution_count": 104,
   "id": "61d766c6",
   "metadata": {},
   "outputs": [
    {
     "ename": "TypeError",
     "evalue": "'tuple' object doesn't support item deletion",
     "output_type": "error",
     "traceback": [
      "\u001b[1;31m---------------------------------------------------------------------------\u001b[0m",
      "\u001b[1;31mTypeError\u001b[0m                                 Traceback (most recent call last)",
      "Cell \u001b[1;32mIn[104], line 8\u001b[0m\n\u001b[0;32m      1\u001b[0m \u001b[38;5;124;03m\"\"\"\u001b[39;00m\n\u001b[0;32m      2\u001b[0m \u001b[38;5;124;03mNote: You can't delete items of tuples and strings in Python. \u001b[39;00m\n\u001b[0;32m      3\u001b[0m \u001b[38;5;124;03mIt's because tuples and strings are immutables; \u001b[39;00m\n\u001b[0;32m      4\u001b[0m \u001b[38;5;124;03mobjects that can't be changed after their creation.\u001b[39;00m\n\u001b[0;32m      5\u001b[0m \u001b[38;5;124;03m\"\"\"\u001b[39;00m\n\u001b[0;32m      7\u001b[0m my_tuple \u001b[38;5;241m=\u001b[39m (\u001b[38;5;241m1\u001b[39m,\u001b[38;5;241m2\u001b[39m,\u001b[38;5;241m3\u001b[39m)\n\u001b[1;32m----> 8\u001b[0m \u001b[38;5;28;01mdel\u001b[39;00m my_tuple[\u001b[38;5;241m1\u001b[39m]\n",
      "\u001b[1;31mTypeError\u001b[0m: 'tuple' object doesn't support item deletion"
     ]
    }
   ],
   "source": [
    "\"\"\"\n",
    "Note: You can't delete items of tuples and strings in Python. \n",
    "It's because tuples and strings are immutables; \n",
    "objects that can't be changed after their creation.\n",
    "\"\"\"\n",
    "\n",
    "my_tuple = (1,2,3)\n",
    "del my_tuple[1]"
   ]
  },
  {
   "cell_type": "code",
   "execution_count": 26,
   "id": "8e092a5f",
   "metadata": {},
   "outputs": [
    {
     "name": "stdout",
     "output_type": "stream",
     "text": [
      "['honda', 'yamaha', 'suzuki']\n",
      "['honda', 'yamaha']\n",
      "suzuki\n"
     ]
    }
   ],
   "source": [
    "motorcycles = ['honda', 'yamaha', 'suzuki']\n",
    "print(motorcycles)\n",
    "\n",
    "popped_motorcycles = motorcycles.pop()\n",
    "print(motorcycles)\n",
    "print(popped_motorcycles)"
   ]
  },
  {
   "cell_type": "code",
   "execution_count": 27,
   "id": "7b61976d",
   "metadata": {},
   "outputs": [
    {
     "name": "stdout",
     "output_type": "stream",
     "text": [
      "The last motorcycle I owned was a Suzuki.\n"
     ]
    }
   ],
   "source": [
    "motorcycles = ['honda', 'yamaha', 'suzuki']\n",
    "\n",
    "last_owned = motorcycles.pop()\n",
    "print(\"The last motorcycle I owned was a \" + last_owned.title() + \".\")"
   ]
  },
  {
   "cell_type": "code",
   "execution_count": 28,
   "id": "17ced6a5",
   "metadata": {},
   "outputs": [
    {
     "name": "stdout",
     "output_type": "stream",
     "text": [
      "The last motorcycle I owned was a Honda.\n"
     ]
    }
   ],
   "source": [
    "motorcycles = ['honda', 'yamaha', 'suzuki']\n",
    "\n",
    "first_owned = motorcycles.pop(0)\n",
    "print(\"The last motorcycle I owned was a \" + first_owned.title() + \".\")"
   ]
  },
  {
   "cell_type": "code",
   "execution_count": null,
   "id": "d277c98a",
   "metadata": {},
   "outputs": [],
   "source": [
    "\"\"\"\n",
    "list.pop(index)\n",
    "The pop() method takes a single argument (index).\n",
    "The argument passed to the method is optional. \n",
    "If not passed, the default index -1 is passed as an argument (index of the last item).\n",
    "\n",
    "If the index passed to the method is not in range, \n",
    "it throws IndexError: pop index out of range exception.\n",
    "\n",
    "The pop() method returns the item present at the given index. \n",
    "This item is also removed from the list.\n",
    "\n",
    "\"\"\""
   ]
  },
  {
   "cell_type": "code",
   "execution_count": 29,
   "id": "c2eb93f0",
   "metadata": {},
   "outputs": [
    {
     "name": "stdout",
     "output_type": "stream",
     "text": [
      "['honda', 'yamaha', 'suzuki', 'ducati']\n",
      "['honda', 'yamaha', 'suzuki']\n"
     ]
    }
   ],
   "source": [
    "motorcycles = ['honda', 'yamaha', 'suzuki', 'ducati']\n",
    "print(motorcycles)\n",
    "\n",
    "motorcycles.remove(\"ducati\") # deletes only the first occurence.\n",
    "print(motorcycles)"
   ]
  },
  {
   "cell_type": "code",
   "execution_count": 30,
   "id": "ac8ccd88",
   "metadata": {},
   "outputs": [
    {
     "name": "stdout",
     "output_type": "stream",
     "text": [
      "['honda', 'yamaha', 'suzuki', 'ducati']\n",
      "['honda', 'yamaha', 'suzuki']\n",
      "\n",
      "A Ducati is too expensive for me.\n"
     ]
    }
   ],
   "source": [
    "motorcycles = ['honda', 'yamaha', 'suzuki', 'ducati']\n",
    "print(motorcycles)\n",
    "\n",
    "too_expensive = 'ducati'\n",
    "motorcycles.remove(too_expensive)\n",
    "print(motorcycles)\n",
    "print(\"\\nA \" + too_expensive.title() + \" is too expensive for me.\")"
   ]
  },
  {
   "cell_type": "code",
   "execution_count": null,
   "id": "51231652",
   "metadata": {},
   "outputs": [],
   "source": [
    "\"\"\"\n",
    "list.remove(element)\n",
    "The remove() method takes a single element as an argument and removes it from the list.\n",
    "If the element doesn't exist, it throws ValueError: \n",
    "list.remove(x): x not in list exception.\n",
    "The remove() doesn't return any value (returns None).\n",
    "\n",
    "\"\"\""
   ]
  },
  {
   "cell_type": "code",
   "execution_count": 31,
   "id": "00d4f9a2",
   "metadata": {},
   "outputs": [
    {
     "name": "stdout",
     "output_type": "stream",
     "text": [
      "Hey Marcus Aurelius, will you come to master dinner?\n",
      "Hey Jocko Willink, will you come to master dinner?\n",
      "Hey Gandhi, will you come to master dinner?\n"
     ]
    }
   ],
   "source": [
    "\"\"\"\n",
    "3-4. Guest List: If you could invite anyone, living or deceased, to dinner, who \n",
    "would you invite? Make a list that includes at least three people you’d like to \n",
    "invite to dinner. Then use your list to print a message to each person, inviting \n",
    "them to dinner\n",
    "\"\"\"\n",
    "guests = [\"marcus aurelius\", \"gandhi\", \"jocko willink\"]\n",
    "\n",
    "message = \"Hey \" + guests[0].title() + \", will you come to master dinner?\"\n",
    "print(message)\n",
    "\n",
    "message = \"Hey \" + guests[-1].title() + \", will you come to master dinner?\"\n",
    "print(message)\n",
    "\n",
    "message = \"Hey \" + guests[-2].title() + \", will you come to master dinner?\"\n",
    "print(message)"
   ]
  },
  {
   "cell_type": "code",
   "execution_count": 53,
   "id": "0e2f0754",
   "metadata": {},
   "outputs": [
    {
     "name": "stdout",
     "output_type": "stream",
     "text": [
      "Jocko Willink, cannot make it.\n",
      "['marcus aurelius', 'gandhi']\n",
      "\n",
      "Epictetus, will be joining us instead\n",
      "['marcus aurelius', 'gandhi', 'epictetus']\n",
      "\n",
      "Hey Marcus Aurelius, will you come to master dinner?\n",
      "Hey Epictetus, will you come to master dinner?\n",
      "Hey Gandhi, will you come to master dinner?\n"
     ]
    }
   ],
   "source": [
    "\"\"\"\n",
    "3-5. Changing Guest List: You just heard that one of your guests can’t make the \n",
    "dinner, so you need to send out a new set of invitations. You’ll have to think of \n",
    "someone else to invite.\n",
    "•Start with your program from Exercise 3-4. Add a print statement at the \n",
    "end of your program stating the name of the guest who can’t make it.\n",
    "•Modify your list, replacing the name of the guest who can’t make it with \n",
    "the name of the new person you are inviting.\n",
    "•Print a second set of invitation messages, one for each person who is still \n",
    "in your list.\n",
    "\"\"\"\n",
    "guests = [\"marcus aurelius\", \"gandhi\", \"jocko willink\"]\n",
    "\n",
    "cannot_make_it = \"jocko willink\"\n",
    "print(cannot_make_it.title() + \", cannot make it.\")\n",
    "guests.remove(cannot_make_it)\n",
    "print(str(guests) + \"\\n\")\n",
    "\n",
    "\n",
    "new_guest = \"epictetus\"\n",
    "guests.append(new_guest)\n",
    "print(new_guest.title() + \", will be joining us instead\")\n",
    "print(str(guests) + \"\\n\")\n",
    "\n",
    "\n",
    "message = \"Hey \" + guests[0].title() + \", will you come to master dinner?\"\n",
    "print(message)\n",
    "\n",
    "message = \"Hey \" + guests[-1].title() + \", will you come to master dinner?\"\n",
    "print(message)\n",
    "\n",
    "message = \"Hey \" + guests[-2].title() + \", will you come to master dinner?\"\n",
    "print(message)"
   ]
  },
  {
   "cell_type": "code",
   "execution_count": 54,
   "id": "b166ddd4",
   "metadata": {},
   "outputs": [
    {
     "name": "stdout",
     "output_type": "stream",
     "text": [
      "Have found a bigger table.\n",
      "['ajay', 'marcus aurelius', 'sushrut', 'gandhi', 'epictetus', 'rohit']\n",
      "\n",
      "Hey Ajay, will you come to master dinner?\n",
      "Hey Marcus Aurelius, will you come to master dinner?\n",
      "Hey Sushrut, will you come to master dinner?\n",
      "Hey Rohit, will you come to master dinner?\n",
      "Hey Epictetus, will you come to master dinner?\n",
      "Hey Gandhi, will you come to master dinner?\n"
     ]
    }
   ],
   "source": [
    "\"\"\"\n",
    "3-6. More Guests: You just found a bigger dinner table, so now more space is \n",
    "available. Think of three more guests to invite to dinner.\n",
    "•Start with your program from Exercise 3-4 or Exercise 3-5. Add a print\n",
    "statement to the end of your program informing people that you found a \n",
    "bigger dinner table.\n",
    "•Use insert() to add one new guest to the beginning of your list.\n",
    "•Use insert() to add one new guest to the middle of your list.\n",
    "•Use append() to add one new guest to the end of your list.\n",
    "•Print a new set of invitation messages, one for each person in your list.\n",
    "\"\"\"\n",
    "\n",
    "print(\"Have found a bigger table.\")\n",
    "\n",
    "new_guest = \"ajay\"\n",
    "guests.insert(0, new_guest)\n",
    "\n",
    "new_guest = \"sushrut\"\n",
    "guests.insert(2, new_guest)\n",
    "\n",
    "new_guest = \"rohit\"\n",
    "guests.append(new_guest)\n",
    "\n",
    "print(str(guests) + \"\\n\")\n",
    "message = \"Hey \" + guests[0].title() + \", will you come to master dinner?\"\n",
    "print(message)\n",
    "\n",
    "message = \"Hey \" + guests[1].title() + \", will you come to master dinner?\"\n",
    "print(message)\n",
    "\n",
    "message = \"Hey \" + guests[2].title() + \", will you come to master dinner?\"\n",
    "print(message)\n",
    "\n",
    "message = \"Hey \" + guests[-1].title() + \", will you come to master dinner?\"\n",
    "print(message)\n",
    "\n",
    "message = \"Hey \" + guests[-2].title() + \", will you come to master dinner?\"\n",
    "print(message)\n",
    "\n",
    "message = \"Hey \" + guests[-3].title() + \", will you come to master dinner?\"\n",
    "print(message)\n"
   ]
  },
  {
   "cell_type": "code",
   "execution_count": 55,
   "id": "f3a01249",
   "metadata": {},
   "outputs": [
    {
     "name": "stdout",
     "output_type": "stream",
     "text": [
      "Can invite only two people for dinner.\n",
      "Sorry rohit, for the inconveniece.\n",
      "Sorry epictetus, for the inconveniece.\n",
      "Sorry gandhi, for the inconveniece.\n",
      "Sorry sushrut, for the inconveniece.\n",
      "['ajay', 'marcus aurelius']\n",
      "\n",
      "Hey Marcus Aurelius, you're still invited.\n",
      "Hey Ajay, you're still invited.\n",
      "['ajay', 'marcus aurelius']\n",
      "\n",
      "[]\n",
      "\n"
     ]
    }
   ],
   "source": [
    "\"\"\"\n",
    "3-7. Shrinking Guest List: You just found out that your new dinner table won’t \n",
    "arrive in time for the dinner, and you have space for only two guests.\n",
    "•Start with your program from Exercise 3-6. Add a new line that prints a \n",
    "message saying that you can invite only two people for dinner.\n",
    "•Use pop() to remove guests from your list one at a time until only two \n",
    "names remain in your list. Each time you pop a name from your list, print \n",
    "a message to that person letting them know you’re sorry you can’t invite \n",
    "them to dinner.\n",
    "•Print a message to each of the two people still on your list, letting them \n",
    "know they’re still invited.\n",
    "•Use del to remove the last two names from your list, so you have an empty \n",
    "list. Print your list to make sure you actually have an empty list at the end \n",
    "of your program.\n",
    "\"\"\"\n",
    "\n",
    "print(\"Can invite only two people for dinner.\")\n",
    "\n",
    "removed_guest = guests.pop()\n",
    "print(\"Sorry \" + removed_guest + \", for the inconveniece.\")\n",
    "\n",
    "removed_guest = guests.pop()\n",
    "print(\"Sorry \" + removed_guest + \", for the inconveniece.\")\n",
    "\n",
    "removed_guest = guests.pop()\n",
    "print(\"Sorry \" + removed_guest + \", for the inconveniece.\")\n",
    "\n",
    "removed_guest = guests.pop()\n",
    "print(\"Sorry \" + removed_guest + \", for the inconveniece.\")\n",
    "\n",
    "print(str(guests) + \"\\n\")\n",
    "\n",
    "message = \"Hey \" + guests[-1].title() + \", you're still invited.\"\n",
    "print(message)\n",
    "\n",
    "message = \"Hey \" + guests[-2].title() + \", you're still invited.\"\n",
    "print(message)\n",
    "\n",
    "print(str(guests) + \"\\n\")\n",
    "\n",
    "del guests[0]\n",
    "del guests[0]\n",
    "\n",
    "print(str(guests) + \"\\n\")"
   ]
  },
  {
   "cell_type": "markdown",
   "id": "1a121fef",
   "metadata": {},
   "source": [
    "# Organizing a List"
   ]
  },
  {
   "cell_type": "code",
   "execution_count": 56,
   "id": "b93c1981",
   "metadata": {},
   "outputs": [
    {
     "name": "stdout",
     "output_type": "stream",
     "text": [
      "['audi', 'bmw', 'subaru', 'toyota']\n"
     ]
    }
   ],
   "source": [
    "# file:- cars.py\n",
    "\n",
    "cars = [\"bmw\", \"audi\", \"toyota\", \"subaru\"]\n",
    "cars.sort() # permanently changes the list.\n",
    "print(cars)"
   ]
  },
  {
   "cell_type": "code",
   "execution_count": 57,
   "id": "71ad235b",
   "metadata": {},
   "outputs": [
    {
     "name": "stdout",
     "output_type": "stream",
     "text": [
      "['toyota', 'subaru', 'bmw', 'audi']\n"
     ]
    }
   ],
   "source": [
    "cars = [\"bmw\", \"audi\", \"toyota\", \"subaru\"]\n",
    "cars.sort(reverse = True)\n",
    "print(cars)"
   ]
  },
  {
   "cell_type": "code",
   "execution_count": 109,
   "id": "31b3d3f5",
   "metadata": {},
   "outputs": [
    {
     "name": "stdout",
     "output_type": "stream",
     "text": [
      "Sorted List:  [(4, 1), (2, 2), (1, 3), (3, 4)] \n",
      "\n",
      "\n",
      "[{'Name': 'Alan Turing', 'age': 25, 'salary': 10000}, {'Name': 'John Hopkins', 'age': 18, 'salary': 1000}, {'Name': 'Mikhail Tal', 'age': 40, 'salary': 15000}, {'Name': 'Sharon Lin', 'age': 30, 'salary': 8000}]\n",
      "\n",
      "[{'Name': 'John Hopkins', 'age': 18, 'salary': 1000}, {'Name': 'Alan Turing', 'age': 25, 'salary': 10000}, {'Name': 'Sharon Lin', 'age': 30, 'salary': 8000}, {'Name': 'Mikhail Tal', 'age': 40, 'salary': 15000}]\n",
      "\n",
      "[{'Name': 'John Hopkins', 'age': 18, 'salary': 1000}, {'Name': 'Sharon Lin', 'age': 30, 'salary': 8000}, {'Name': 'Alan Turing', 'age': 25, 'salary': 10000}, {'Name': 'Mikhail Tal', 'age': 40, 'salary': 15000}]\n",
      "\n"
     ]
    }
   ],
   "source": [
    "\"\"\"\n",
    "list.sort(key=..., reverse=...)\n",
    "Note: The simplest difference between sort() and sorted() is: \n",
    "sort() changes the list directly and doesn't return any value, \n",
    "while sorted() doesn't change the list and returns the sorted list.\n",
    "\n",
    "reverse - If True, the sorted list is reversed (or sorted in Descending order)\n",
    "key - function that serves as a key for the sort comparison\n",
    "\n",
    "\n",
    "The sort() method doesn't return any value. Rather, it changes the original list.\n",
    "\n",
    "If you want a function to return the sorted list rather than change the original list, \n",
    "use sorted().\n",
    "\n",
    "key???\n",
    "If you want your own implementation for sorting, \n",
    "the sort() method also accepts a key function as an optional parameter.\n",
    "\n",
    "list.sort(key=len) == sorted(list, key=len)\n",
    "\n",
    "\n",
    "We know that a tuple is sorted using its first parameter by default. \n",
    "Let's look at how to customize the sort() method to sort using the second element.\n",
    "\"\"\"\n",
    "\n",
    "def take_second(elem):\n",
    "    return elem[1]\n",
    "\n",
    "random = [(2,2), (3,4), (4,1), (1,3)]\n",
    "random.sort(key=take_second)\n",
    "print(\"Sorted List: \", random, \"\\n\\n\")\n",
    "\n",
    "employees = [\n",
    "    {'Name': 'Alan Turing', 'age': 25, 'salary': 10000},\n",
    "    {'Name': 'Sharon Lin', 'age': 30, 'salary': 8000},\n",
    "    {'Name': 'John Hopkins', 'age': 18, 'salary': 1000},\n",
    "    {'Name': 'Mikhail Tal', 'age': 40, 'salary': 15000},\n",
    "]\n",
    "\n",
    "def get_name(employee):\n",
    "    return employee.get(\"Name\")\n",
    "\n",
    "def get_age(employee):\n",
    "    return employee.get(\"age\")\n",
    "\n",
    "def get_salary(employee):\n",
    "    return employee.get(\"salary\")\n",
    "\n",
    "employees.sort(key=get_name)\n",
    "print(employees, end = \"\\n\\n\")\n",
    "\n",
    "employees.sort(key=get_age)\n",
    "print(employees, end = \"\\n\\n\")\n",
    "\n",
    "employees.sort(key=get_salary)\n",
    "print(employees, end = \"\\n\\n\")"
   ]
  },
  {
   "cell_type": "code",
   "execution_count": 58,
   "id": "91e86730",
   "metadata": {},
   "outputs": [
    {
     "name": "stdout",
     "output_type": "stream",
     "text": [
      "Here is the originial list: \n",
      "['bmw', 'audi', 'toyota', 'subaru']\n",
      "\n",
      "Here is the sorted list:\n",
      "['audi', 'bmw', 'subaru', 'toyota']\n",
      "\n",
      "Here is the original list again:\n",
      "['bmw', 'audi', 'toyota', 'subaru']\n"
     ]
    }
   ],
   "source": [
    "cars = [\"bmw\", \"audi\", \"toyota\", \"subaru\"]\n",
    "\n",
    "print(\"Here is the originial list: \")\n",
    "print(cars)\n",
    "\n",
    "print(\"\\nHere is the sorted list:\")\n",
    "print(sorted(cars))\n",
    "\n",
    "print(\"\\nHere is the original list again:\")\n",
    "print(cars)"
   ]
  },
  {
   "cell_type": "code",
   "execution_count": null,
   "id": "ad934fdd",
   "metadata": {},
   "outputs": [],
   "source": [
    "\"\"\"\n",
    "sorted(iterable, key=None, reverse=False)\n",
    "\n",
    "iterable - A sequence (string, tuple, list) or collection (set, dictionary, frozen set) or any other iterator.\n",
    "reverse (Optional) - If True, the sorted list is reversed (or sorted in descending order). Defaults to False if not provided.\n",
    "key (Optional) - A function that serves as a key for the sort comparison. Defaults to None.\n",
    "\n",
    "The sorted() function returns a sorted list.\n",
    "Everything else is same as .sort()\n",
    "\n",
    "\"\"\""
   ]
  },
  {
   "cell_type": "code",
   "execution_count": 59,
   "id": "f75eef38",
   "metadata": {},
   "outputs": [
    {
     "name": "stdout",
     "output_type": "stream",
     "text": [
      "['bmw', 'audi', 'toyota', 'subaru']\n",
      "['subaru', 'toyota', 'audi', 'bmw']\n"
     ]
    }
   ],
   "source": [
    "cars = [\"bmw\", \"audi\", \"toyota\", \"subaru\"]\n",
    "print(cars)\n",
    "\n",
    "cars.reverse() # permanently changes the order of the list.\n",
    "print(cars)"
   ]
  },
  {
   "cell_type": "code",
   "execution_count": 111,
   "id": "9f842eae",
   "metadata": {},
   "outputs": [
    {
     "name": "stdout",
     "output_type": "stream",
     "text": [
      "linux\n",
      "mac\n",
      "windows\n"
     ]
    }
   ],
   "source": [
    "\"\"\"\n",
    "list.reverse()\n",
    "The reverse() method doesn't take any arguments.\n",
    "The reverse() method doesn't return any value. It updates the existing list.\n",
    "\n",
    "We have a function called reversed(), like how sorted() is for sort()\n",
    "\"\"\"\n",
    "\n",
    "systems = [\"windows\", \"mac\", \"linux\"]\n",
    "\n",
    "for os in reversed(systems):\n",
    "    print(os)\n",
    "    \n",
    "\"\"\"\n",
    "reversed(sequence_object)\n",
    "sequence_object - an indexable object to be reversed (can be a tuple, string, list, range, etc.)\n",
    "Note: Since we can't index objects such as a set and a dictionary, they are not considered sequence objects.\n",
    "\n",
    "The reversed() method returns:\n",
    "a reversed list of items present in a sequence object\n",
    "\"\"\""
   ]
  },
  {
   "cell_type": "code",
   "execution_count": 112,
   "id": "46f69cc1",
   "metadata": {},
   "outputs": [
    {
     "data": {
      "text/plain": [
       "4"
      ]
     },
     "execution_count": 112,
     "metadata": {},
     "output_type": "execute_result"
    }
   ],
   "source": [
    "cars = [\"bmw\", \"audi\", \"toyota\", \"subaru\"]\n",
    "len(cars)"
   ]
  },
  {
   "cell_type": "code",
   "execution_count": null,
   "id": "0c4c2ea1",
   "metadata": {},
   "outputs": [],
   "source": [
    "\"\"\"\n",
    "The syntax of len() is:\n",
    "len(s)\n",
    "\n",
    "The len() function takes a single argument s, which can be\n",
    "\n",
    "sequence - string, bytes, tuple, list, range OR,\n",
    "collection - dictionary, set, frozen set\n",
    "\n",
    "\n",
    "len() function returns the number of items of an object.\n",
    "Failing to pass an argument or passing an invalid argument will raise a TypeError exception.\n",
    "\n",
    "\"\"\""
   ]
  },
  {
   "cell_type": "code",
   "execution_count": 69,
   "id": "37b800cb",
   "metadata": {},
   "outputs": [
    {
     "name": "stdout",
     "output_type": "stream",
     "text": [
      "['Dubai', 'Malibu', 'Bel Air', 'Sydney', 'Ooty']\n",
      "['Bel Air', 'Dubai', 'Malibu', 'Ooty', 'Sydney']\n",
      "['Dubai', 'Malibu', 'Bel Air', 'Sydney', 'Ooty']\n",
      "['Sydney', 'Ooty', 'Malibu', 'Dubai', 'Bel Air']\n",
      "['Dubai', 'Malibu', 'Bel Air', 'Sydney', 'Ooty']\n",
      "['Ooty', 'Sydney', 'Bel Air', 'Malibu', 'Dubai']\n",
      "['Dubai', 'Malibu', 'Bel Air', 'Sydney', 'Ooty']\n",
      "['Bel Air', 'Dubai', 'Malibu', 'Ooty', 'Sydney']\n",
      "['Sydney', 'Ooty', 'Malibu', 'Dubai', 'Bel Air']\n"
     ]
    }
   ],
   "source": [
    "\"\"\"\n",
    "3-8. Seeing the World: Think of at least five places in the world you’d like to \n",
    "visit.\n",
    "•Store the locations in a list. Make sure the list is not in alphabetical order.\n",
    "•Print your list in its original order. Don’t worry about printing the list neatly, \n",
    "just print it as a raw Python list.\n",
    "•Use sorted() to print your list in alphabetical order without modifying the \n",
    "actual list.\n",
    "•Show that your list is still in its original order by printing it.\n",
    "•Use sorted() to print your list in reverse alphabetical order without chang-\n",
    "ing the order of the original list.\n",
    "•Show that your list is still in its original order by printing it again.\n",
    "•Use reverse() to change the order of your list. Print the list to show that its \n",
    "order has changed.\n",
    "•Use reverse() to change the order of your list again. Print the list to show \n",
    "it’s back to its original order.\n",
    "•Use sort() to change your list so it’s stored in alphabetical order. Print the \n",
    "list to show that its order has been changed.\n",
    "•Use sort() to change your list so it’s stored in reverse alphabetical order.\n",
    "Print the list to show that its order has changed.\n",
    "\"\"\"\n",
    "places = [\"Dubai\", \"Malibu\", \"Bel Air\", \"Sydney\", \"Ooty\"]\n",
    "print(places)\n",
    "print(sorted(places))\n",
    "print(places)\n",
    "print(sorted(places, reverse=True))\n",
    "print(places)\n",
    "places.reverse()\n",
    "print(places)\n",
    "places.reverse()\n",
    "print(places)\n",
    "places.sort()\n",
    "print(places)\n",
    "places.sort(reverse=True)\n",
    "print(places)"
   ]
  },
  {
   "cell_type": "code",
   "execution_count": 71,
   "id": "3b76170b",
   "metadata": {},
   "outputs": [
    {
     "name": "stdout",
     "output_type": "stream",
     "text": [
      "Number of people invited to the master dinner is 3.\n"
     ]
    }
   ],
   "source": [
    "\"\"\"\n",
    "3-9. Dinner Guests: Working with one of the programs from Exercises 3-4 \n",
    "through 3-7 (page 46), use len() to print a message indicating the number \n",
    "of people you are inviting to dinner.\n",
    "\"\"\"\n",
    "guests = [\"marcus aurelius\", \"gandhi\", \"jocko willink\"]\n",
    "\n",
    "print(\"Number of people invited to the master dinner is \" + str(len(guests)) + \".\")"
   ]
  },
  {
   "cell_type": "code",
   "execution_count": 89,
   "id": "e7ae63c7",
   "metadata": {},
   "outputs": [
    {
     "name": "stdout",
     "output_type": "stream",
     "text": [
      "[]\n",
      "['python']\n",
      "['c', 'python']\n",
      "['c', 'c++', 'python']\n",
      "['c', 'python']; Popped item = c++\n",
      "['c']; Popped item = python\n",
      "['c', 'python']\n",
      "['c', 'python', 'python']\n",
      "['c', 'python']\n",
      "['python']\n",
      "['c', 'python']\n",
      "['c', 'c++', 'python']\n",
      "['c', 'c++', 'python']\n",
      "['python', 'c++', 'c']\n",
      "['python', 'c++', 'c']\n",
      "['c', 'c++', 'python']\n",
      "['c', 'c++', 'python', 'B']\n",
      "['B', 'c', 'c++', 'python']\n",
      "['python', 'c++', 'c', 'B']\n",
      "Length of my_list is 4\n"
     ]
    }
   ],
   "source": [
    "\"\"\" \n",
    "3-10. Every Function: Think of something you could store in a list. For example, \n",
    "you could make a list of mountains, rivers, countries, cities, languages, or any-\n",
    "thing else you’d like. Write a program that creates a list containing these items \n",
    "and then uses each function introduced in this chapter at least once.\n",
    "\"\"\"\n",
    "my_list = []\n",
    "print(my_list)\n",
    "\n",
    "my_list.append(\"python\")\n",
    "print(my_list)\n",
    "\n",
    "my_list.insert(0, \"c\")\n",
    "print(my_list)\n",
    "\n",
    "my_list.insert(1, \"c++\")\n",
    "print(my_list)\n",
    "\n",
    "popped_item = my_list.pop(1)\n",
    "print(str(my_list) + \"; Popped item = \" + popped_item)\n",
    "\n",
    "popped_item = my_list.pop()\n",
    "print(str(my_list) + \"; Popped item = \" + popped_item)\n",
    "\n",
    "my_list.append(\"python\")\n",
    "print(my_list)\n",
    "\n",
    "my_list.append(\"python\")\n",
    "print(my_list)\n",
    "\n",
    "my_list.remove(\"python\")\n",
    "print(my_list)\n",
    "\n",
    "del my_list[0]\n",
    "print(my_list)\n",
    "\n",
    "my_list.insert(0, \"c\")\n",
    "print(my_list)\n",
    "\n",
    "my_list.insert(1, \"c++\")\n",
    "print(my_list)\n",
    "\n",
    "print(sorted(my_list))\n",
    "\n",
    "print(sorted(my_list, reverse = True))\n",
    "\n",
    "my_list.reverse()\n",
    "print(my_list)\n",
    "\n",
    "my_list.reverse()\n",
    "print(my_list)\n",
    "\n",
    "my_list.append(\"B\")\n",
    "print(my_list)\n",
    "\n",
    "my_list.sort()\n",
    "print(my_list)\n",
    "\n",
    "my_list.sort(reverse = True)\n",
    "print(my_list)\n",
    "\n",
    "print(\"Length of my_list is \" + str(len(my_list)))"
   ]
  },
  {
   "cell_type": "code",
   "execution_count": 90,
   "id": "190155b6",
   "metadata": {},
   "outputs": [
    {
     "ename": "IndexError",
     "evalue": "list index out of range",
     "output_type": "error",
     "traceback": [
      "\u001b[1;31m---------------------------------------------------------------------------\u001b[0m",
      "\u001b[1;31mIndexError\u001b[0m                                Traceback (most recent call last)",
      "Cell \u001b[1;32mIn[90], line 2\u001b[0m\n\u001b[0;32m      1\u001b[0m motorcycles \u001b[38;5;241m=\u001b[39m [\u001b[38;5;124m\"\u001b[39m\u001b[38;5;124mhonda\u001b[39m\u001b[38;5;124m\"\u001b[39m, \u001b[38;5;124m\"\u001b[39m\u001b[38;5;124myamaha\u001b[39m\u001b[38;5;124m\"\u001b[39m, \u001b[38;5;124m\"\u001b[39m\u001b[38;5;124msuzuki\u001b[39m\u001b[38;5;124m\"\u001b[39m]\n\u001b[1;32m----> 2\u001b[0m \u001b[38;5;28mprint\u001b[39m(\u001b[43mmotorcycles\u001b[49m\u001b[43m[\u001b[49m\u001b[38;5;241;43m3\u001b[39;49m\u001b[43m]\u001b[49m)\n",
      "\u001b[1;31mIndexError\u001b[0m: list index out of range"
     ]
    }
   ],
   "source": [
    "\"\"\"\n",
    "3-11. Intentional Error: If you haven’t received an index error in one of your \n",
    "programs yet, try to make one happen. Change an index in one of your pro-\n",
    "grams to produce an index error. Make sure you correct the error before clos-\n",
    "ing the program.\n",
    "\"\"\"\n",
    "\n",
    "motorcycles = [\"honda\", \"yamaha\", \"suzuki\"]\n",
    "print(motorcycles[3])"
   ]
  },
  {
   "cell_type": "code",
   "execution_count": 91,
   "id": "5a401153",
   "metadata": {},
   "outputs": [
    {
     "ename": "IndexError",
     "evalue": "list index out of range",
     "output_type": "error",
     "traceback": [
      "\u001b[1;31m---------------------------------------------------------------------------\u001b[0m",
      "\u001b[1;31mIndexError\u001b[0m                                Traceback (most recent call last)",
      "Cell \u001b[1;32mIn[91], line 2\u001b[0m\n\u001b[0;32m      1\u001b[0m motorcycles \u001b[38;5;241m=\u001b[39m []\n\u001b[1;32m----> 2\u001b[0m \u001b[38;5;28mprint\u001b[39m(\u001b[43mmotorcycles\u001b[49m\u001b[43m[\u001b[49m\u001b[38;5;241;43m-\u001b[39;49m\u001b[38;5;241;43m1\u001b[39;49m\u001b[43m]\u001b[49m)\n",
      "\u001b[1;31mIndexError\u001b[0m: list index out of range"
     ]
    }
   ],
   "source": [
    "motorcycles = []\n",
    "print(motorcycles[-1])"
   ]
  },
  {
   "cell_type": "code",
   "execution_count": null,
   "id": "2a7b4c0d",
   "metadata": {},
   "outputs": [],
   "source": []
  }
 ],
 "metadata": {
  "kernelspec": {
   "display_name": "Python 3 (ipykernel)",
   "language": "python",
   "name": "python3"
  },
  "language_info": {
   "codemirror_mode": {
    "name": "ipython",
    "version": 3
   },
   "file_extension": ".py",
   "mimetype": "text/x-python",
   "name": "python",
   "nbconvert_exporter": "python",
   "pygments_lexer": "ipython3",
   "version": "3.10.9"
  }
 },
 "nbformat": 4,
 "nbformat_minor": 5
}
